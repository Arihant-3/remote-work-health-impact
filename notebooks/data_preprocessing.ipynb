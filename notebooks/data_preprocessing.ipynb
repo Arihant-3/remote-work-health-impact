{
 "cells": [
  {
   "cell_type": "code",
   "execution_count": 1,
   "id": "5e5869b3",
   "metadata": {},
   "outputs": [],
   "source": [
    "import numpy as np \n",
    "import pandas as pd \n",
    "import matplotlib.pyplot as plt \n",
    "import seaborn as sns "
   ]
  },
  {
   "cell_type": "code",
   "execution_count": 2,
   "id": "d0b0223f",
   "metadata": {},
   "outputs": [
    {
     "data": {
      "application/vnd.microsoft.datawrangler.viewer.v0+json": {
       "columns": [
        {
         "name": "index",
         "rawType": "int64",
         "type": "integer"
        },
        {
         "name": "Survey_Date",
         "rawType": "object",
         "type": "string"
        },
        {
         "name": "Age",
         "rawType": "int64",
         "type": "integer"
        },
        {
         "name": "Gender",
         "rawType": "object",
         "type": "string"
        },
        {
         "name": "Region",
         "rawType": "object",
         "type": "string"
        },
        {
         "name": "Industry",
         "rawType": "object",
         "type": "string"
        },
        {
         "name": "Job_Role",
         "rawType": "object",
         "type": "string"
        },
        {
         "name": "Work_Arrangement",
         "rawType": "object",
         "type": "string"
        },
        {
         "name": "Hours_Per_Week",
         "rawType": "int64",
         "type": "integer"
        },
        {
         "name": "Mental_Health_Status",
         "rawType": "object",
         "type": "unknown"
        },
        {
         "name": "Burnout_Level",
         "rawType": "object",
         "type": "string"
        },
        {
         "name": "Work_Life_Balance_Score",
         "rawType": "int64",
         "type": "integer"
        },
        {
         "name": "Physical_Health_Issues",
         "rawType": "object",
         "type": "unknown"
        },
        {
         "name": "Social_Isolation_Score",
         "rawType": "int64",
         "type": "integer"
        },
        {
         "name": "Salary_Range",
         "rawType": "object",
         "type": "string"
        }
       ],
       "ref": "79a6c67e-4702-4a56-bfd4-1a2ebd27d626",
       "rows": [
        [
         "0",
         "2025-06-01",
         "27",
         "Female",
         "Asia",
         "Professional Services",
         "Data Analyst",
         "Onsite",
         "64",
         "Stress Disorder",
         "High",
         "3",
         "Shoulder Pain; Neck Pain",
         "2",
         "$40K-60K"
        ],
        [
         "1",
         "2025-06-01",
         "37",
         "Female",
         "Asia",
         "Professional Services",
         "Data Analyst",
         "Onsite",
         "37",
         "Stress Disorder",
         "High",
         "4",
         "Back Pain",
         "2",
         "$80K-100K"
        ],
        [
         "2",
         "2025-06-01",
         "32",
         "Female",
         "Africa",
         "Education",
         "Business Analyst",
         "Onsite",
         "36",
         "ADHD",
         "High",
         "3",
         "Shoulder Pain; Eye Strain",
         "2",
         "$80K-100K"
        ],
        [
         "3",
         "2025-06-01",
         "40",
         "Female",
         "Europe",
         "Education",
         "Data Analyst",
         "Onsite",
         "63",
         "ADHD",
         "Medium",
         "1",
         "Shoulder Pain; Eye Strain",
         "2",
         "$60K-80K"
        ],
        [
         "4",
         "2025-06-01",
         "30",
         "Male",
         "South America",
         "Manufacturing",
         "DevOps Engineer",
         "Hybrid",
         "65",
         null,
         "Medium",
         "5",
         null,
         "4",
         "$60K-80K"
        ]
       ],
       "shape": {
        "columns": 14,
        "rows": 5
       }
      },
      "text/html": [
       "<div>\n",
       "<style scoped>\n",
       "    .dataframe tbody tr th:only-of-type {\n",
       "        vertical-align: middle;\n",
       "    }\n",
       "\n",
       "    .dataframe tbody tr th {\n",
       "        vertical-align: top;\n",
       "    }\n",
       "\n",
       "    .dataframe thead th {\n",
       "        text-align: right;\n",
       "    }\n",
       "</style>\n",
       "<table border=\"1\" class=\"dataframe\">\n",
       "  <thead>\n",
       "    <tr style=\"text-align: right;\">\n",
       "      <th></th>\n",
       "      <th>Survey_Date</th>\n",
       "      <th>Age</th>\n",
       "      <th>Gender</th>\n",
       "      <th>Region</th>\n",
       "      <th>Industry</th>\n",
       "      <th>Job_Role</th>\n",
       "      <th>Work_Arrangement</th>\n",
       "      <th>Hours_Per_Week</th>\n",
       "      <th>Mental_Health_Status</th>\n",
       "      <th>Burnout_Level</th>\n",
       "      <th>Work_Life_Balance_Score</th>\n",
       "      <th>Physical_Health_Issues</th>\n",
       "      <th>Social_Isolation_Score</th>\n",
       "      <th>Salary_Range</th>\n",
       "    </tr>\n",
       "  </thead>\n",
       "  <tbody>\n",
       "    <tr>\n",
       "      <th>0</th>\n",
       "      <td>2025-06-01</td>\n",
       "      <td>27</td>\n",
       "      <td>Female</td>\n",
       "      <td>Asia</td>\n",
       "      <td>Professional Services</td>\n",
       "      <td>Data Analyst</td>\n",
       "      <td>Onsite</td>\n",
       "      <td>64</td>\n",
       "      <td>Stress Disorder</td>\n",
       "      <td>High</td>\n",
       "      <td>3</td>\n",
       "      <td>Shoulder Pain; Neck Pain</td>\n",
       "      <td>2</td>\n",
       "      <td>$40K-60K</td>\n",
       "    </tr>\n",
       "    <tr>\n",
       "      <th>1</th>\n",
       "      <td>2025-06-01</td>\n",
       "      <td>37</td>\n",
       "      <td>Female</td>\n",
       "      <td>Asia</td>\n",
       "      <td>Professional Services</td>\n",
       "      <td>Data Analyst</td>\n",
       "      <td>Onsite</td>\n",
       "      <td>37</td>\n",
       "      <td>Stress Disorder</td>\n",
       "      <td>High</td>\n",
       "      <td>4</td>\n",
       "      <td>Back Pain</td>\n",
       "      <td>2</td>\n",
       "      <td>$80K-100K</td>\n",
       "    </tr>\n",
       "    <tr>\n",
       "      <th>2</th>\n",
       "      <td>2025-06-01</td>\n",
       "      <td>32</td>\n",
       "      <td>Female</td>\n",
       "      <td>Africa</td>\n",
       "      <td>Education</td>\n",
       "      <td>Business Analyst</td>\n",
       "      <td>Onsite</td>\n",
       "      <td>36</td>\n",
       "      <td>ADHD</td>\n",
       "      <td>High</td>\n",
       "      <td>3</td>\n",
       "      <td>Shoulder Pain; Eye Strain</td>\n",
       "      <td>2</td>\n",
       "      <td>$80K-100K</td>\n",
       "    </tr>\n",
       "    <tr>\n",
       "      <th>3</th>\n",
       "      <td>2025-06-01</td>\n",
       "      <td>40</td>\n",
       "      <td>Female</td>\n",
       "      <td>Europe</td>\n",
       "      <td>Education</td>\n",
       "      <td>Data Analyst</td>\n",
       "      <td>Onsite</td>\n",
       "      <td>63</td>\n",
       "      <td>ADHD</td>\n",
       "      <td>Medium</td>\n",
       "      <td>1</td>\n",
       "      <td>Shoulder Pain; Eye Strain</td>\n",
       "      <td>2</td>\n",
       "      <td>$60K-80K</td>\n",
       "    </tr>\n",
       "    <tr>\n",
       "      <th>4</th>\n",
       "      <td>2025-06-01</td>\n",
       "      <td>30</td>\n",
       "      <td>Male</td>\n",
       "      <td>South America</td>\n",
       "      <td>Manufacturing</td>\n",
       "      <td>DevOps Engineer</td>\n",
       "      <td>Hybrid</td>\n",
       "      <td>65</td>\n",
       "      <td>NaN</td>\n",
       "      <td>Medium</td>\n",
       "      <td>5</td>\n",
       "      <td>NaN</td>\n",
       "      <td>4</td>\n",
       "      <td>$60K-80K</td>\n",
       "    </tr>\n",
       "  </tbody>\n",
       "</table>\n",
       "</div>"
      ],
      "text/plain": [
       "  Survey_Date  Age  Gender         Region               Industry  \\\n",
       "0  2025-06-01   27  Female           Asia  Professional Services   \n",
       "1  2025-06-01   37  Female           Asia  Professional Services   \n",
       "2  2025-06-01   32  Female         Africa              Education   \n",
       "3  2025-06-01   40  Female         Europe              Education   \n",
       "4  2025-06-01   30    Male  South America          Manufacturing   \n",
       "\n",
       "           Job_Role Work_Arrangement  Hours_Per_Week Mental_Health_Status  \\\n",
       "0      Data Analyst           Onsite              64      Stress Disorder   \n",
       "1      Data Analyst           Onsite              37      Stress Disorder   \n",
       "2  Business Analyst           Onsite              36                 ADHD   \n",
       "3      Data Analyst           Onsite              63                 ADHD   \n",
       "4   DevOps Engineer           Hybrid              65                  NaN   \n",
       "\n",
       "  Burnout_Level  Work_Life_Balance_Score     Physical_Health_Issues  \\\n",
       "0          High                        3   Shoulder Pain; Neck Pain   \n",
       "1          High                        4                  Back Pain   \n",
       "2          High                        3  Shoulder Pain; Eye Strain   \n",
       "3        Medium                        1  Shoulder Pain; Eye Strain   \n",
       "4        Medium                        5                        NaN   \n",
       "\n",
       "   Social_Isolation_Score Salary_Range  \n",
       "0                       2     $40K-60K  \n",
       "1                       2    $80K-100K  \n",
       "2                       2    $80K-100K  \n",
       "3                       2     $60K-80K  \n",
       "4                       4     $60K-80K  "
      ]
     },
     "execution_count": 2,
     "metadata": {},
     "output_type": "execute_result"
    }
   ],
   "source": [
    "df = pd.read_csv(\"C:/Users/burnw/OneDrive/Documents/coding/Data Analyst/Journey/Week 6-7/data/post_pandemic_remote_work_health_impact_2025.csv\")\n",
    "df.head()"
   ]
  },
  {
   "cell_type": "code",
   "execution_count": 3,
   "id": "6a995d5e",
   "metadata": {},
   "outputs": [
    {
     "name": "stdout",
     "output_type": "stream",
     "text": [
      "<class 'pandas.core.frame.DataFrame'>\n",
      "RangeIndex: 3157 entries, 0 to 3156\n",
      "Data columns (total 14 columns):\n",
      " #   Column                   Non-Null Count  Dtype \n",
      "---  ------                   --------------  ----- \n",
      " 0   Survey_Date              3157 non-null   object\n",
      " 1   Age                      3157 non-null   int64 \n",
      " 2   Gender                   3157 non-null   object\n",
      " 3   Region                   3157 non-null   object\n",
      " 4   Industry                 3157 non-null   object\n",
      " 5   Job_Role                 3157 non-null   object\n",
      " 6   Work_Arrangement         3157 non-null   object\n",
      " 7   Hours_Per_Week           3157 non-null   int64 \n",
      " 8   Mental_Health_Status     2358 non-null   object\n",
      " 9   Burnout_Level            3157 non-null   object\n",
      " 10  Work_Life_Balance_Score  3157 non-null   int64 \n",
      " 11  Physical_Health_Issues   2877 non-null   object\n",
      " 12  Social_Isolation_Score   3157 non-null   int64 \n",
      " 13  Salary_Range             3157 non-null   object\n",
      "dtypes: int64(4), object(10)\n",
      "memory usage: 345.4+ KB\n"
     ]
    }
   ],
   "source": [
    "df.info()"
   ]
  },
  {
   "cell_type": "code",
   "execution_count": 4,
   "id": "8c1f119d",
   "metadata": {},
   "outputs": [
    {
     "data": {
      "application/vnd.microsoft.datawrangler.viewer.v0+json": {
       "columns": [
        {
         "name": "index",
         "rawType": "object",
         "type": "string"
        },
        {
         "name": "0",
         "rawType": "int64",
         "type": "integer"
        }
       ],
       "ref": "52e7bc26-f1e3-415b-8801-88acedf9343f",
       "rows": [
        [
         "Survey_Date",
         "0"
        ],
        [
         "Age",
         "0"
        ],
        [
         "Gender",
         "0"
        ],
        [
         "Region",
         "0"
        ],
        [
         "Industry",
         "0"
        ],
        [
         "Job_Role",
         "0"
        ],
        [
         "Work_Arrangement",
         "0"
        ],
        [
         "Hours_Per_Week",
         "0"
        ],
        [
         "Mental_Health_Status",
         "799"
        ],
        [
         "Burnout_Level",
         "0"
        ],
        [
         "Work_Life_Balance_Score",
         "0"
        ],
        [
         "Physical_Health_Issues",
         "280"
        ],
        [
         "Social_Isolation_Score",
         "0"
        ],
        [
         "Salary_Range",
         "0"
        ]
       ],
       "shape": {
        "columns": 1,
        "rows": 14
       }
      },
      "text/plain": [
       "Survey_Date                  0\n",
       "Age                          0\n",
       "Gender                       0\n",
       "Region                       0\n",
       "Industry                     0\n",
       "Job_Role                     0\n",
       "Work_Arrangement             0\n",
       "Hours_Per_Week               0\n",
       "Mental_Health_Status       799\n",
       "Burnout_Level                0\n",
       "Work_Life_Balance_Score      0\n",
       "Physical_Health_Issues     280\n",
       "Social_Isolation_Score       0\n",
       "Salary_Range                 0\n",
       "dtype: int64"
      ]
     },
     "execution_count": 4,
     "metadata": {},
     "output_type": "execute_result"
    }
   ],
   "source": [
    "df.isnull().sum()"
   ]
  },
  {
   "cell_type": "code",
   "execution_count": 5,
   "id": "564d5a38",
   "metadata": {},
   "outputs": [
    {
     "data": {
      "text/plain": [
       "array(['Stress Disorder', 'ADHD', nan, 'Burnout', 'Anxiety', 'PTSD',\n",
       "       'Depression'], dtype=object)"
      ]
     },
     "execution_count": 5,
     "metadata": {},
     "output_type": "execute_result"
    }
   ],
   "source": [
    "df['Mental_Health_Status'].unique()"
   ]
  },
  {
   "cell_type": "code",
   "execution_count": 6,
   "id": "078b28be",
   "metadata": {},
   "outputs": [
    {
     "data": {
      "application/vnd.microsoft.datawrangler.viewer.v0+json": {
       "columns": [
        {
         "name": "Industry",
         "rawType": "object",
         "type": "string"
        },
        {
         "name": "count",
         "rawType": "int64",
         "type": "integer"
        }
       ],
       "ref": "5652b0c4-187b-45da-9db8-70064042514a",
       "rows": [
        [
         "Professional Services",
         "730"
        ],
        [
         "Technology",
         "593"
        ],
        [
         "Manufacturing",
         "370"
        ],
        [
         "Finance",
         "367"
        ],
        [
         "Education",
         "287"
        ],
        [
         "Healthcare",
         "247"
        ],
        [
         "Marketing",
         "202"
        ],
        [
         "Retail",
         "188"
        ],
        [
         "Customer Service",
         "173"
        ]
       ],
       "shape": {
        "columns": 1,
        "rows": 9
       }
      },
      "text/plain": [
       "Industry\n",
       "Professional Services    730\n",
       "Technology               593\n",
       "Manufacturing            370\n",
       "Finance                  367\n",
       "Education                287\n",
       "Healthcare               247\n",
       "Marketing                202\n",
       "Retail                   188\n",
       "Customer Service         173\n",
       "Name: count, dtype: int64"
      ]
     },
     "execution_count": 6,
     "metadata": {},
     "output_type": "execute_result"
    }
   ],
   "source": [
    "df['Industry'].value_counts()"
   ]
  },
  {
   "cell_type": "code",
   "execution_count": 7,
   "id": "65226db1",
   "metadata": {},
   "outputs": [
    {
     "data": {
      "text/plain": [
       "24"
      ]
     },
     "execution_count": 7,
     "metadata": {},
     "output_type": "execute_result"
    }
   ],
   "source": [
    "len(df['Job_Role'].unique())"
   ]
  },
  {
   "cell_type": "code",
   "execution_count": 8,
   "id": "6dc9e7f7",
   "metadata": {},
   "outputs": [
    {
     "data": {
      "application/vnd.microsoft.datawrangler.viewer.v0+json": {
       "columns": [
        {
         "name": "index",
         "rawType": "int64",
         "type": "integer"
        },
        {
         "name": "Age",
         "rawType": "int64",
         "type": "integer"
        },
        {
         "name": "Gender",
         "rawType": "object",
         "type": "string"
        },
        {
         "name": "Region",
         "rawType": "object",
         "type": "string"
        },
        {
         "name": "Industry",
         "rawType": "object",
         "type": "string"
        },
        {
         "name": "Work_Arrangement",
         "rawType": "object",
         "type": "string"
        },
        {
         "name": "Hours_Per_Week",
         "rawType": "int64",
         "type": "integer"
        },
        {
         "name": "Mental_Health_Status",
         "rawType": "object",
         "type": "unknown"
        },
        {
         "name": "Burnout_Level",
         "rawType": "object",
         "type": "string"
        },
        {
         "name": "Work_Life_Balance_Score",
         "rawType": "int64",
         "type": "integer"
        },
        {
         "name": "Physical_Health_Issues",
         "rawType": "object",
         "type": "unknown"
        },
        {
         "name": "Social_Isolation_Score",
         "rawType": "int64",
         "type": "integer"
        },
        {
         "name": "Salary_Range",
         "rawType": "object",
         "type": "string"
        }
       ],
       "ref": "e2757fd7-0d50-487f-a5b7-2c7aa3229a6b",
       "rows": [
        [
         "0",
         "27",
         "Female",
         "Asia",
         "Professional Services",
         "Onsite",
         "64",
         "Stress Disorder",
         "High",
         "3",
         "Shoulder Pain; Neck Pain",
         "2",
         "$40K-60K"
        ],
        [
         "1",
         "37",
         "Female",
         "Asia",
         "Professional Services",
         "Onsite",
         "37",
         "Stress Disorder",
         "High",
         "4",
         "Back Pain",
         "2",
         "$80K-100K"
        ],
        [
         "2",
         "32",
         "Female",
         "Africa",
         "Education",
         "Onsite",
         "36",
         "ADHD",
         "High",
         "3",
         "Shoulder Pain; Eye Strain",
         "2",
         "$80K-100K"
        ],
        [
         "3",
         "40",
         "Female",
         "Europe",
         "Education",
         "Onsite",
         "63",
         "ADHD",
         "Medium",
         "1",
         "Shoulder Pain; Eye Strain",
         "2",
         "$60K-80K"
        ],
        [
         "4",
         "30",
         "Male",
         "South America",
         "Manufacturing",
         "Hybrid",
         "65",
         null,
         "Medium",
         "5",
         null,
         "4",
         "$60K-80K"
        ]
       ],
       "shape": {
        "columns": 12,
        "rows": 5
       }
      },
      "text/html": [
       "<div>\n",
       "<style scoped>\n",
       "    .dataframe tbody tr th:only-of-type {\n",
       "        vertical-align: middle;\n",
       "    }\n",
       "\n",
       "    .dataframe tbody tr th {\n",
       "        vertical-align: top;\n",
       "    }\n",
       "\n",
       "    .dataframe thead th {\n",
       "        text-align: right;\n",
       "    }\n",
       "</style>\n",
       "<table border=\"1\" class=\"dataframe\">\n",
       "  <thead>\n",
       "    <tr style=\"text-align: right;\">\n",
       "      <th></th>\n",
       "      <th>Age</th>\n",
       "      <th>Gender</th>\n",
       "      <th>Region</th>\n",
       "      <th>Industry</th>\n",
       "      <th>Work_Arrangement</th>\n",
       "      <th>Hours_Per_Week</th>\n",
       "      <th>Mental_Health_Status</th>\n",
       "      <th>Burnout_Level</th>\n",
       "      <th>Work_Life_Balance_Score</th>\n",
       "      <th>Physical_Health_Issues</th>\n",
       "      <th>Social_Isolation_Score</th>\n",
       "      <th>Salary_Range</th>\n",
       "    </tr>\n",
       "  </thead>\n",
       "  <tbody>\n",
       "    <tr>\n",
       "      <th>0</th>\n",
       "      <td>27</td>\n",
       "      <td>Female</td>\n",
       "      <td>Asia</td>\n",
       "      <td>Professional Services</td>\n",
       "      <td>Onsite</td>\n",
       "      <td>64</td>\n",
       "      <td>Stress Disorder</td>\n",
       "      <td>High</td>\n",
       "      <td>3</td>\n",
       "      <td>Shoulder Pain; Neck Pain</td>\n",
       "      <td>2</td>\n",
       "      <td>$40K-60K</td>\n",
       "    </tr>\n",
       "    <tr>\n",
       "      <th>1</th>\n",
       "      <td>37</td>\n",
       "      <td>Female</td>\n",
       "      <td>Asia</td>\n",
       "      <td>Professional Services</td>\n",
       "      <td>Onsite</td>\n",
       "      <td>37</td>\n",
       "      <td>Stress Disorder</td>\n",
       "      <td>High</td>\n",
       "      <td>4</td>\n",
       "      <td>Back Pain</td>\n",
       "      <td>2</td>\n",
       "      <td>$80K-100K</td>\n",
       "    </tr>\n",
       "    <tr>\n",
       "      <th>2</th>\n",
       "      <td>32</td>\n",
       "      <td>Female</td>\n",
       "      <td>Africa</td>\n",
       "      <td>Education</td>\n",
       "      <td>Onsite</td>\n",
       "      <td>36</td>\n",
       "      <td>ADHD</td>\n",
       "      <td>High</td>\n",
       "      <td>3</td>\n",
       "      <td>Shoulder Pain; Eye Strain</td>\n",
       "      <td>2</td>\n",
       "      <td>$80K-100K</td>\n",
       "    </tr>\n",
       "    <tr>\n",
       "      <th>3</th>\n",
       "      <td>40</td>\n",
       "      <td>Female</td>\n",
       "      <td>Europe</td>\n",
       "      <td>Education</td>\n",
       "      <td>Onsite</td>\n",
       "      <td>63</td>\n",
       "      <td>ADHD</td>\n",
       "      <td>Medium</td>\n",
       "      <td>1</td>\n",
       "      <td>Shoulder Pain; Eye Strain</td>\n",
       "      <td>2</td>\n",
       "      <td>$60K-80K</td>\n",
       "    </tr>\n",
       "    <tr>\n",
       "      <th>4</th>\n",
       "      <td>30</td>\n",
       "      <td>Male</td>\n",
       "      <td>South America</td>\n",
       "      <td>Manufacturing</td>\n",
       "      <td>Hybrid</td>\n",
       "      <td>65</td>\n",
       "      <td>NaN</td>\n",
       "      <td>Medium</td>\n",
       "      <td>5</td>\n",
       "      <td>NaN</td>\n",
       "      <td>4</td>\n",
       "      <td>$60K-80K</td>\n",
       "    </tr>\n",
       "  </tbody>\n",
       "</table>\n",
       "</div>"
      ],
      "text/plain": [
       "   Age  Gender         Region               Industry Work_Arrangement  \\\n",
       "0   27  Female           Asia  Professional Services           Onsite   \n",
       "1   37  Female           Asia  Professional Services           Onsite   \n",
       "2   32  Female         Africa              Education           Onsite   \n",
       "3   40  Female         Europe              Education           Onsite   \n",
       "4   30    Male  South America          Manufacturing           Hybrid   \n",
       "\n",
       "   Hours_Per_Week Mental_Health_Status Burnout_Level  Work_Life_Balance_Score  \\\n",
       "0              64      Stress Disorder          High                        3   \n",
       "1              37      Stress Disorder          High                        4   \n",
       "2              36                 ADHD          High                        3   \n",
       "3              63                 ADHD        Medium                        1   \n",
       "4              65                  NaN        Medium                        5   \n",
       "\n",
       "      Physical_Health_Issues  Social_Isolation_Score Salary_Range  \n",
       "0   Shoulder Pain; Neck Pain                       2     $40K-60K  \n",
       "1                  Back Pain                       2    $80K-100K  \n",
       "2  Shoulder Pain; Eye Strain                       2    $80K-100K  \n",
       "3  Shoulder Pain; Eye Strain                       2     $60K-80K  \n",
       "4                        NaN                       4     $60K-80K  "
      ]
     },
     "execution_count": 8,
     "metadata": {},
     "output_type": "execute_result"
    }
   ],
   "source": [
    "# Drop the survey date and job role column\n",
    "df.drop(columns=['Survey_Date', 'Job_Role'], axis=1, inplace=True)\n",
    "df.head()"
   ]
  },
  {
   "cell_type": "code",
   "execution_count": 9,
   "id": "edd0a38a",
   "metadata": {},
   "outputs": [
    {
     "data": {
      "text/plain": [
       "array(['$40K-60K', '$80K-100K', '$60K-80K', '$100K-120K', '$120K+'],\n",
       "      dtype=object)"
      ]
     },
     "execution_count": 9,
     "metadata": {},
     "output_type": "execute_result"
    }
   ],
   "source": [
    "df['Salary_Range'].unique()"
   ]
  },
  {
   "cell_type": "code",
   "execution_count": 10,
   "id": "c8b527c3",
   "metadata": {},
   "outputs": [
    {
     "name": "stdout",
     "output_type": "stream",
     "text": [
      "['40000', '60000']\n",
      "[40000, 60000]\n",
      "50000.0\n"
     ]
    },
    {
     "data": {
      "text/plain": [
       "False"
      ]
     },
     "execution_count": 10,
     "metadata": {},
     "output_type": "execute_result"
    }
   ],
   "source": [
    "a = '$40K-60K'\n",
    "\n",
    "salary_range = a.replace('K', '000').replace('$', '').split('-')\n",
    "print(salary_range)\n",
    "salary_range = [int(s) for s in salary_range]\n",
    "print(salary_range)\n",
    "average_salary = sum(salary_range) / len(salary_range)\n",
    "print(average_salary)\n",
    "\n",
    "isinstance(average_salary, float) # --> True\n",
    "isinstance(average_salary, int) # --> False\n"
   ]
  },
  {
   "cell_type": "code",
   "execution_count": 11,
   "id": "97b54760",
   "metadata": {},
   "outputs": [
    {
     "data": {
      "application/vnd.microsoft.datawrangler.viewer.v0+json": {
       "columns": [
        {
         "name": "index",
         "rawType": "int64",
         "type": "integer"
        },
        {
         "name": "Salary_Range",
         "rawType": "object",
         "type": "unknown"
        }
       ],
       "ref": "7e9e085f-f431-4bf1-a720-17bb6239f148",
       "rows": [
        [
         "0",
         "['40000', '60000']"
        ],
        [
         "1",
         "['80000', '100000']"
        ],
        [
         "2",
         "['80000', '100000']"
        ],
        [
         "3",
         "['60000', '80000']"
        ],
        [
         "4",
         "['60000', '80000']"
        ],
        [
         "5",
         "['60000', '80000']"
        ],
        [
         "6",
         "['80000', '100000']"
        ],
        [
         "7",
         "['100000', '120000']"
        ],
        [
         "8",
         "['60000', '80000']"
        ],
        [
         "9",
         "['60000', '80000']"
        ],
        [
         "10",
         "['100000', '120000']"
        ],
        [
         "11",
         "['40000', '60000']"
        ],
        [
         "12",
         "['80000', '100000']"
        ],
        [
         "13",
         "['60000', '80000']"
        ],
        [
         "14",
         "['60000', '80000']"
        ],
        [
         "15",
         "['120000']"
        ],
        [
         "16",
         "['60000', '80000']"
        ],
        [
         "17",
         "['60000', '80000']"
        ],
        [
         "18",
         "['100000', '120000']"
        ],
        [
         "19",
         "['80000', '100000']"
        ],
        [
         "20",
         "['100000', '120000']"
        ],
        [
         "21",
         "['60000', '80000']"
        ],
        [
         "22",
         "['60000', '80000']"
        ],
        [
         "23",
         "['40000', '60000']"
        ],
        [
         "24",
         "['80000', '100000']"
        ],
        [
         "25",
         "['60000', '80000']"
        ],
        [
         "26",
         "['80000', '100000']"
        ],
        [
         "27",
         "['60000', '80000']"
        ],
        [
         "28",
         "['120000']"
        ],
        [
         "29",
         "['60000', '80000']"
        ],
        [
         "30",
         "['60000', '80000']"
        ],
        [
         "31",
         "['100000', '120000']"
        ],
        [
         "32",
         "['80000', '100000']"
        ],
        [
         "33",
         "['80000', '100000']"
        ],
        [
         "34",
         "['40000', '60000']"
        ],
        [
         "35",
         "['60000', '80000']"
        ],
        [
         "36",
         "['120000']"
        ],
        [
         "37",
         "['60000', '80000']"
        ],
        [
         "38",
         "['60000', '80000']"
        ],
        [
         "39",
         "['80000', '100000']"
        ],
        [
         "40",
         "['100000', '120000']"
        ],
        [
         "41",
         "['60000', '80000']"
        ],
        [
         "42",
         "['60000', '80000']"
        ],
        [
         "43",
         "['80000', '100000']"
        ],
        [
         "44",
         "['40000', '60000']"
        ],
        [
         "45",
         "['60000', '80000']"
        ],
        [
         "46",
         "['80000', '100000']"
        ],
        [
         "47",
         "['80000', '100000']"
        ],
        [
         "48",
         "['80000', '100000']"
        ],
        [
         "49",
         "['80000', '100000']"
        ]
       ],
       "shape": {
        "columns": 1,
        "rows": 3157
       }
      },
      "text/plain": [
       "0         [40000, 60000]\n",
       "1        [80000, 100000]\n",
       "2        [80000, 100000]\n",
       "3         [60000, 80000]\n",
       "4         [60000, 80000]\n",
       "              ...       \n",
       "3152     [80000, 100000]\n",
       "3153    [100000, 120000]\n",
       "3154      [40000, 60000]\n",
       "3155     [80000, 100000]\n",
       "3156    [100000, 120000]\n",
       "Name: Salary_Range, Length: 3157, dtype: object"
      ]
     },
     "execution_count": 11,
     "metadata": {},
     "output_type": "execute_result"
    }
   ],
   "source": [
    "# Convert Salary range to average salary \n",
    "\n",
    "df['Salary_Range'] = df['Salary_Range'].str.replace('K', '000').str.replace('$', '').str.replace('+', '').str.split('-')\n",
    "df['Salary_Range']"
   ]
  },
  {
   "cell_type": "code",
   "execution_count": 12,
   "metadata": {},
   "outputs": [
    {
     "data": {
      "application/vnd.microsoft.datawrangler.viewer.v0+json": {
       "columns": [
        {
         "name": "Salary_Range",
         "rawType": "object",
         "type": "unknown"
        },
        {
         "name": "count",
         "rawType": "int64",
         "type": "integer"
        }
       ],
       "ref": "e4be2ddf-5c12-4118-82ae-b3f902e16289",
       "rows": [
        [
         "['60000', '80000']",
         "1014"
        ],
        [
         "['80000', '100000']",
         "964"
        ],
        [
         "['40000', '60000']",
         "510"
        ],
        [
         "['100000', '120000']",
         "459"
        ],
        [
         "['120000']",
         "210"
        ]
       ],
       "shape": {
        "columns": 1,
        "rows": 5
       }
      },
      "text/plain": [
       "Salary_Range\n",
       "[60000, 80000]      1014\n",
       "[80000, 100000]      964\n",
       "[40000, 60000]       510\n",
       "[100000, 120000]     459\n",
       "[120000]             210\n",
       "Name: count, dtype: int64"
      ]
     },
     "execution_count": 12,
     "metadata": {},
     "output_type": "execute_result"
    }
   ],
   "source": [
    "df['Salary_Range'].value_counts()"
   ]
  },
  {
   "cell_type": "code",
   "execution_count": 13,
   "id": "6bcfb222",
   "metadata": {},
   "outputs": [
    {
     "data": {
      "application/vnd.microsoft.datawrangler.viewer.v0+json": {
       "columns": [
        {
         "name": "index",
         "rawType": "int64",
         "type": "integer"
        },
        {
         "name": "Avg_Salary",
         "rawType": "float64",
         "type": "float"
        }
       ],
       "ref": "03600c22-50e6-40cd-8fb8-2c5ce27e964a",
       "rows": [
        [
         "0",
         "50000.0"
        ],
        [
         "1",
         "90000.0"
        ],
        [
         "2",
         "90000.0"
        ],
        [
         "3",
         "70000.0"
        ],
        [
         "4",
         "70000.0"
        ],
        [
         "5",
         "70000.0"
        ],
        [
         "6",
         "90000.0"
        ],
        [
         "7",
         "110000.0"
        ],
        [
         "8",
         "70000.0"
        ],
        [
         "9",
         "70000.0"
        ],
        [
         "10",
         "110000.0"
        ],
        [
         "11",
         "50000.0"
        ],
        [
         "12",
         "90000.0"
        ],
        [
         "13",
         "70000.0"
        ],
        [
         "14",
         "70000.0"
        ],
        [
         "15",
         "120000.0"
        ],
        [
         "16",
         "70000.0"
        ],
        [
         "17",
         "70000.0"
        ],
        [
         "18",
         "110000.0"
        ],
        [
         "19",
         "90000.0"
        ],
        [
         "20",
         "110000.0"
        ],
        [
         "21",
         "70000.0"
        ],
        [
         "22",
         "70000.0"
        ],
        [
         "23",
         "50000.0"
        ],
        [
         "24",
         "90000.0"
        ],
        [
         "25",
         "70000.0"
        ],
        [
         "26",
         "90000.0"
        ],
        [
         "27",
         "70000.0"
        ],
        [
         "28",
         "120000.0"
        ],
        [
         "29",
         "70000.0"
        ],
        [
         "30",
         "70000.0"
        ],
        [
         "31",
         "110000.0"
        ],
        [
         "32",
         "90000.0"
        ],
        [
         "33",
         "90000.0"
        ],
        [
         "34",
         "50000.0"
        ],
        [
         "35",
         "70000.0"
        ],
        [
         "36",
         "120000.0"
        ],
        [
         "37",
         "70000.0"
        ],
        [
         "38",
         "70000.0"
        ],
        [
         "39",
         "90000.0"
        ],
        [
         "40",
         "110000.0"
        ],
        [
         "41",
         "70000.0"
        ],
        [
         "42",
         "70000.0"
        ],
        [
         "43",
         "90000.0"
        ],
        [
         "44",
         "50000.0"
        ],
        [
         "45",
         "70000.0"
        ],
        [
         "46",
         "90000.0"
        ],
        [
         "47",
         "90000.0"
        ],
        [
         "48",
         "90000.0"
        ],
        [
         "49",
         "90000.0"
        ]
       ],
       "shape": {
        "columns": 1,
        "rows": 3157
       }
      },
      "text/plain": [
       "0        50000.0\n",
       "1        90000.0\n",
       "2        90000.0\n",
       "3        70000.0\n",
       "4        70000.0\n",
       "          ...   \n",
       "3152     90000.0\n",
       "3153    110000.0\n",
       "3154     50000.0\n",
       "3155     90000.0\n",
       "3156    110000.0\n",
       "Name: Avg_Salary, Length: 3157, dtype: float64"
      ]
     },
     "execution_count": 13,
     "metadata": {},
     "output_type": "execute_result"
    }
   ],
   "source": [
    "df['Salary_Range'] = df['Salary_Range'].apply(lambda x: [int(i) for i in x] if isinstance(x, list) else x)\n",
    "df['Avg_Salary'] = df['Salary_Range'].apply(lambda x: sum(x) / len(x) if isinstance(x, list) else x)\n",
    "df['Avg_Salary']"
   ]
  },
  {
   "cell_type": "code",
   "execution_count": 14,
   "id": "d7de093f",
   "metadata": {},
   "outputs": [],
   "source": [
    "# Drop the Salary_Range column \n",
    "df.drop(columns='Salary_Range', axis=1, inplace=True)"
   ]
  },
  {
   "cell_type": "code",
   "execution_count": 15,
   "id": "7abec77c",
   "metadata": {},
   "outputs": [
    {
     "data": {
      "application/vnd.microsoft.datawrangler.viewer.v0+json": {
       "columns": [
        {
         "name": "index",
         "rawType": "int64",
         "type": "integer"
        },
        {
         "name": "Age",
         "rawType": "int64",
         "type": "integer"
        },
        {
         "name": "Gender",
         "rawType": "object",
         "type": "string"
        },
        {
         "name": "Region",
         "rawType": "object",
         "type": "string"
        },
        {
         "name": "Industry",
         "rawType": "object",
         "type": "string"
        },
        {
         "name": "Work_Arrangement",
         "rawType": "object",
         "type": "string"
        },
        {
         "name": "Hours_Per_Week",
         "rawType": "int64",
         "type": "integer"
        },
        {
         "name": "Mental_Health_Status",
         "rawType": "object",
         "type": "unknown"
        },
        {
         "name": "Burnout_Level",
         "rawType": "object",
         "type": "string"
        },
        {
         "name": "Work_Life_Balance_Score",
         "rawType": "int64",
         "type": "integer"
        },
        {
         "name": "Physical_Health_Issues",
         "rawType": "object",
         "type": "unknown"
        },
        {
         "name": "Social_Isolation_Score",
         "rawType": "int64",
         "type": "integer"
        },
        {
         "name": "Avg_Salary",
         "rawType": "float64",
         "type": "float"
        }
       ],
       "ref": "3c1ee0c3-b4d0-4262-b952-36053ed75023",
       "rows": [
        [
         "0",
         "27",
         "Female",
         "Asia",
         "Professional Services",
         "Onsite",
         "64",
         "Stress Disorder",
         "High",
         "3",
         "Shoulder Pain; Neck Pain",
         "2",
         "50000.0"
        ],
        [
         "1",
         "37",
         "Female",
         "Asia",
         "Professional Services",
         "Onsite",
         "37",
         "Stress Disorder",
         "High",
         "4",
         "Back Pain",
         "2",
         "90000.0"
        ],
        [
         "2",
         "32",
         "Female",
         "Africa",
         "Education",
         "Onsite",
         "36",
         "ADHD",
         "High",
         "3",
         "Shoulder Pain; Eye Strain",
         "2",
         "90000.0"
        ],
        [
         "3",
         "40",
         "Female",
         "Europe",
         "Education",
         "Onsite",
         "63",
         "ADHD",
         "Medium",
         "1",
         "Shoulder Pain; Eye Strain",
         "2",
         "70000.0"
        ],
        [
         "4",
         "30",
         "Male",
         "South America",
         "Manufacturing",
         "Hybrid",
         "65",
         null,
         "Medium",
         "5",
         null,
         "4",
         "70000.0"
        ]
       ],
       "shape": {
        "columns": 12,
        "rows": 5
       }
      },
      "text/html": [
       "<div>\n",
       "<style scoped>\n",
       "    .dataframe tbody tr th:only-of-type {\n",
       "        vertical-align: middle;\n",
       "    }\n",
       "\n",
       "    .dataframe tbody tr th {\n",
       "        vertical-align: top;\n",
       "    }\n",
       "\n",
       "    .dataframe thead th {\n",
       "        text-align: right;\n",
       "    }\n",
       "</style>\n",
       "<table border=\"1\" class=\"dataframe\">\n",
       "  <thead>\n",
       "    <tr style=\"text-align: right;\">\n",
       "      <th></th>\n",
       "      <th>Age</th>\n",
       "      <th>Gender</th>\n",
       "      <th>Region</th>\n",
       "      <th>Industry</th>\n",
       "      <th>Work_Arrangement</th>\n",
       "      <th>Hours_Per_Week</th>\n",
       "      <th>Mental_Health_Status</th>\n",
       "      <th>Burnout_Level</th>\n",
       "      <th>Work_Life_Balance_Score</th>\n",
       "      <th>Physical_Health_Issues</th>\n",
       "      <th>Social_Isolation_Score</th>\n",
       "      <th>Avg_Salary</th>\n",
       "    </tr>\n",
       "  </thead>\n",
       "  <tbody>\n",
       "    <tr>\n",
       "      <th>0</th>\n",
       "      <td>27</td>\n",
       "      <td>Female</td>\n",
       "      <td>Asia</td>\n",
       "      <td>Professional Services</td>\n",
       "      <td>Onsite</td>\n",
       "      <td>64</td>\n",
       "      <td>Stress Disorder</td>\n",
       "      <td>High</td>\n",
       "      <td>3</td>\n",
       "      <td>Shoulder Pain; Neck Pain</td>\n",
       "      <td>2</td>\n",
       "      <td>50000.0</td>\n",
       "    </tr>\n",
       "    <tr>\n",
       "      <th>1</th>\n",
       "      <td>37</td>\n",
       "      <td>Female</td>\n",
       "      <td>Asia</td>\n",
       "      <td>Professional Services</td>\n",
       "      <td>Onsite</td>\n",
       "      <td>37</td>\n",
       "      <td>Stress Disorder</td>\n",
       "      <td>High</td>\n",
       "      <td>4</td>\n",
       "      <td>Back Pain</td>\n",
       "      <td>2</td>\n",
       "      <td>90000.0</td>\n",
       "    </tr>\n",
       "    <tr>\n",
       "      <th>2</th>\n",
       "      <td>32</td>\n",
       "      <td>Female</td>\n",
       "      <td>Africa</td>\n",
       "      <td>Education</td>\n",
       "      <td>Onsite</td>\n",
       "      <td>36</td>\n",
       "      <td>ADHD</td>\n",
       "      <td>High</td>\n",
       "      <td>3</td>\n",
       "      <td>Shoulder Pain; Eye Strain</td>\n",
       "      <td>2</td>\n",
       "      <td>90000.0</td>\n",
       "    </tr>\n",
       "    <tr>\n",
       "      <th>3</th>\n",
       "      <td>40</td>\n",
       "      <td>Female</td>\n",
       "      <td>Europe</td>\n",
       "      <td>Education</td>\n",
       "      <td>Onsite</td>\n",
       "      <td>63</td>\n",
       "      <td>ADHD</td>\n",
       "      <td>Medium</td>\n",
       "      <td>1</td>\n",
       "      <td>Shoulder Pain; Eye Strain</td>\n",
       "      <td>2</td>\n",
       "      <td>70000.0</td>\n",
       "    </tr>\n",
       "    <tr>\n",
       "      <th>4</th>\n",
       "      <td>30</td>\n",
       "      <td>Male</td>\n",
       "      <td>South America</td>\n",
       "      <td>Manufacturing</td>\n",
       "      <td>Hybrid</td>\n",
       "      <td>65</td>\n",
       "      <td>NaN</td>\n",
       "      <td>Medium</td>\n",
       "      <td>5</td>\n",
       "      <td>NaN</td>\n",
       "      <td>4</td>\n",
       "      <td>70000.0</td>\n",
       "    </tr>\n",
       "  </tbody>\n",
       "</table>\n",
       "</div>"
      ],
      "text/plain": [
       "   Age  Gender         Region               Industry Work_Arrangement  \\\n",
       "0   27  Female           Asia  Professional Services           Onsite   \n",
       "1   37  Female           Asia  Professional Services           Onsite   \n",
       "2   32  Female         Africa              Education           Onsite   \n",
       "3   40  Female         Europe              Education           Onsite   \n",
       "4   30    Male  South America          Manufacturing           Hybrid   \n",
       "\n",
       "   Hours_Per_Week Mental_Health_Status Burnout_Level  Work_Life_Balance_Score  \\\n",
       "0              64      Stress Disorder          High                        3   \n",
       "1              37      Stress Disorder          High                        4   \n",
       "2              36                 ADHD          High                        3   \n",
       "3              63                 ADHD        Medium                        1   \n",
       "4              65                  NaN        Medium                        5   \n",
       "\n",
       "      Physical_Health_Issues  Social_Isolation_Score  Avg_Salary  \n",
       "0   Shoulder Pain; Neck Pain                       2     50000.0  \n",
       "1                  Back Pain                       2     90000.0  \n",
       "2  Shoulder Pain; Eye Strain                       2     90000.0  \n",
       "3  Shoulder Pain; Eye Strain                       2     70000.0  \n",
       "4                        NaN                       4     70000.0  "
      ]
     },
     "execution_count": 15,
     "metadata": {},
     "output_type": "execute_result"
    }
   ],
   "source": [
    "df.head()"
   ]
  },
  {
   "cell_type": "markdown",
   "id": "fa559964",
   "metadata": {},
   "source": [
    "---"
   ]
  },
  {
   "cell_type": "code",
   "execution_count": 16,
   "id": "e2a4a37a",
   "metadata": {},
   "outputs": [
    {
     "name": "stdout",
     "output_type": "stream",
     "text": [
      "<class 'pandas.core.frame.DataFrame'>\n",
      "RangeIndex: 3157 entries, 0 to 3156\n",
      "Data columns (total 12 columns):\n",
      " #   Column                   Non-Null Count  Dtype  \n",
      "---  ------                   --------------  -----  \n",
      " 0   Age                      3157 non-null   int64  \n",
      " 1   Gender                   3157 non-null   object \n",
      " 2   Region                   3157 non-null   object \n",
      " 3   Industry                 3157 non-null   object \n",
      " 4   Work_Arrangement         3157 non-null   object \n",
      " 5   Hours_Per_Week           3157 non-null   int64  \n",
      " 6   Mental_Health_Status     2358 non-null   object \n",
      " 7   Burnout_Level            3157 non-null   object \n",
      " 8   Work_Life_Balance_Score  3157 non-null   int64  \n",
      " 9   Physical_Health_Issues   2877 non-null   object \n",
      " 10  Social_Isolation_Score   3157 non-null   int64  \n",
      " 11  Avg_Salary               3157 non-null   float64\n",
      "dtypes: float64(1), int64(4), object(7)\n",
      "memory usage: 296.1+ KB\n"
     ]
    }
   ],
   "source": [
    "df.info()"
   ]
  },
  {
   "cell_type": "code",
   "execution_count": 17,
   "id": "64398b3e",
   "metadata": {},
   "outputs": [
    {
     "data": {
      "application/vnd.microsoft.datawrangler.viewer.v0+json": {
       "columns": [
        {
         "name": "Gender",
         "rawType": "object",
         "type": "string"
        },
        {
         "name": "count",
         "rawType": "int64",
         "type": "integer"
        }
       ],
       "ref": "72f6c436-d6c1-4f54-89fb-3186c671c995",
       "rows": [
        [
         "Male",
         "1535"
        ],
        [
         "Female",
         "1500"
        ],
        [
         "Non-binary",
         "90"
        ],
        [
         "Prefer not to say",
         "32"
        ]
       ],
       "shape": {
        "columns": 1,
        "rows": 4
       }
      },
      "text/plain": [
       "Gender\n",
       "Male                 1535\n",
       "Female               1500\n",
       "Non-binary             90\n",
       "Prefer not to say      32\n",
       "Name: count, dtype: int64"
      ]
     },
     "execution_count": 17,
     "metadata": {},
     "output_type": "execute_result"
    }
   ],
   "source": [
    "df.Gender.value_counts()"
   ]
  },
  {
   "cell_type": "code",
   "execution_count": 18,
   "id": "18de64f8",
   "metadata": {},
   "outputs": [
    {
     "data": {
      "application/vnd.microsoft.datawrangler.viewer.v0+json": {
       "columns": [
        {
         "name": "index",
         "rawType": "int64",
         "type": "integer"
        },
        {
         "name": "Age",
         "rawType": "int64",
         "type": "integer"
        },
        {
         "name": "Gender",
         "rawType": "object",
         "type": "string"
        },
        {
         "name": "Region",
         "rawType": "object",
         "type": "string"
        },
        {
         "name": "Industry",
         "rawType": "object",
         "type": "string"
        },
        {
         "name": "Work_Arrangement",
         "rawType": "object",
         "type": "string"
        },
        {
         "name": "Hours_Per_Week",
         "rawType": "int64",
         "type": "integer"
        },
        {
         "name": "Mental_Health_Status",
         "rawType": "object",
         "type": "unknown"
        },
        {
         "name": "Burnout_Level",
         "rawType": "object",
         "type": "string"
        },
        {
         "name": "Work_Life_Balance_Score",
         "rawType": "int64",
         "type": "integer"
        },
        {
         "name": "Physical_Health_Issues",
         "rawType": "object",
         "type": "unknown"
        },
        {
         "name": "Social_Isolation_Score",
         "rawType": "int64",
         "type": "integer"
        },
        {
         "name": "Avg_Salary",
         "rawType": "float64",
         "type": "float"
        }
       ],
       "ref": "198bb29e-e35e-4bfb-8222-68521650264e",
       "rows": [
        [
         "7",
         "63",
         "Non-Binary",
         "Europe",
         "Professional Services",
         "Onsite",
         "55",
         "Anxiety",
         "High",
         "3",
         null,
         "2",
         "110000.0"
        ],
        [
         "138",
         "37",
         "Non-Binary",
         "South America",
         "Technology",
         "Onsite",
         "48",
         "Anxiety",
         "Low",
         "1",
         null,
         "3",
         "90000.0"
        ],
        [
         "149",
         "46",
         "Non-Binary",
         "Europe",
         "Professional Services",
         "Hybrid",
         "45",
         null,
         "Low",
         "5",
         "Shoulder Pain",
         "1",
         "90000.0"
        ],
        [
         "175",
         "60",
         "Non-Binary",
         "South America",
         "Customer Service",
         "Onsite",
         "51",
         "Depression",
         "High",
         "3",
         "Back Pain; Shoulder Pain; Neck Pain",
         "2",
         "70000.0"
        ],
        [
         "191",
         "47",
         "Non-Binary",
         "Africa",
         "Technology",
         "Hybrid",
         "64",
         "Anxiety",
         "Low",
         "3",
         null,
         "1",
         "70000.0"
        ],
        [
         "221",
         "45",
         "Non-Binary",
         "Asia",
         "Education",
         "Remote",
         "53",
         null,
         "High",
         "4",
         "Shoulder Pain",
         "1",
         "70000.0"
        ],
        [
         "245",
         "43",
         "Non-Binary",
         "Europe",
         "Finance",
         "Onsite",
         "56",
         null,
         "Medium",
         "4",
         "Back Pain; Shoulder Pain; Neck Pain",
         "3",
         "110000.0"
        ],
        [
         "285",
         "42",
         "Non-Binary",
         "North America",
         "Healthcare",
         "Onsite",
         "44",
         "Stress Disorder",
         "Medium",
         "3",
         "Back Pain; Shoulder Pain; Eye Strain",
         "3",
         "70000.0"
        ],
        [
         "301",
         "55",
         "Non-Binary",
         "South America",
         "Finance",
         "Hybrid",
         "58",
         null,
         "Low",
         "2",
         "Shoulder Pain",
         "1",
         "90000.0"
        ],
        [
         "333",
         "42",
         "Non-Binary",
         "Africa",
         "Finance",
         "Hybrid",
         "55",
         "Depression",
         "Medium",
         "1",
         null,
         "3",
         "90000.0"
        ],
        [
         "402",
         "28",
         "Non-Binary",
         "Africa",
         "Manufacturing",
         "Hybrid",
         "58",
         "Burnout",
         "Low",
         "5",
         "Back Pain",
         "4",
         "90000.0"
        ],
        [
         "416",
         "27",
         "Non-Binary",
         "North America",
         "Manufacturing",
         "Onsite",
         "63",
         null,
         "Low",
         "3",
         null,
         "2",
         "70000.0"
        ],
        [
         "502",
         "45",
         "Non-Binary",
         "Oceania",
         "Technology",
         "Remote",
         "56",
         null,
         "Medium",
         "1",
         "Eye Strain; Neck Pain",
         "5",
         "120000.0"
        ],
        [
         "563",
         "29",
         "Non-Binary",
         "Asia",
         "Education",
         "Hybrid",
         "61",
         null,
         "Medium",
         "5",
         "Eye Strain",
         "2",
         "90000.0"
        ],
        [
         "597",
         "44",
         "Non-Binary",
         "Asia",
         "Technology",
         "Hybrid",
         "35",
         null,
         "Medium",
         "4",
         "Shoulder Pain",
         "2",
         "70000.0"
        ],
        [
         "605",
         "58",
         "Non-Binary",
         "Asia",
         "Education",
         "Onsite",
         "46",
         "PTSD",
         "Medium",
         "5",
         null,
         "1",
         "90000.0"
        ],
        [
         "607",
         "33",
         "Non-Binary",
         "Africa",
         "Professional Services",
         "Hybrid",
         "35",
         "Stress Disorder",
         "Medium",
         "2",
         "Eye Strain; Neck Pain",
         "1",
         "70000.0"
        ],
        [
         "609",
         "52",
         "Non-Binary",
         "North America",
         "Professional Services",
         "Remote",
         "64",
         "Depression",
         "High",
         "2",
         "Back Pain; Eye Strain",
         "4",
         "90000.0"
        ],
        [
         "655",
         "36",
         "Non-Binary",
         "North America",
         "Professional Services",
         "Hybrid",
         "48",
         null,
         "Medium",
         "3",
         "Back Pain; Eye Strain",
         "1",
         "90000.0"
        ],
        [
         "799",
         "64",
         "Non-Binary",
         "Africa",
         "Education",
         "Onsite",
         "51",
         "Depression",
         "High",
         "3",
         "Back Pain; Eye Strain",
         "1",
         "90000.0"
        ],
        [
         "944",
         "58",
         "Non-Binary",
         "Oceania",
         "Healthcare",
         "Onsite",
         "65",
         "Anxiety",
         "High",
         "2",
         "Back Pain",
         "2",
         "70000.0"
        ],
        [
         "973",
         "58",
         "Non-Binary",
         "Europe",
         "Customer Service",
         "Hybrid",
         "56",
         "Anxiety",
         "Medium",
         "2",
         "Back Pain; Eye Strain",
         "5",
         "70000.0"
        ],
        [
         "1009",
         "65",
         "Non-Binary",
         "North America",
         "Marketing",
         "Onsite",
         "62",
         "Depression",
         "Medium",
         "5",
         "Back Pain; Eye Strain; Neck Pain",
         "2",
         "70000.0"
        ],
        [
         "1026",
         "54",
         "Non-Binary",
         "Asia",
         "Manufacturing",
         "Onsite",
         "46",
         "PTSD",
         "Medium",
         "3",
         "Eye Strain",
         "5",
         "110000.0"
        ],
        [
         "1027",
         "22",
         "Non-Binary",
         "Oceania",
         "Professional Services",
         "Onsite",
         "56",
         "Anxiety",
         "Low",
         "3",
         "Back Pain; Shoulder Pain; Wrist Pain",
         "2",
         "70000.0"
        ],
        [
         "1054",
         "48",
         "Non-Binary",
         "Africa",
         "Technology",
         "Onsite",
         "45",
         "ADHD",
         "Low",
         "3",
         "Back Pain; Eye Strain; Wrist Pain",
         "2",
         "90000.0"
        ],
        [
         "1065",
         "45",
         "Non-Binary",
         "Europe",
         "Customer Service",
         "Hybrid",
         "44",
         "PTSD",
         "High",
         "3",
         "Shoulder Pain; Eye Strain",
         "5",
         "90000.0"
        ],
        [
         "1117",
         "27",
         "Non-Binary",
         "Europe",
         "Marketing",
         "Remote",
         "47",
         "PTSD",
         "Medium",
         "1",
         "Back Pain; Eye Strain",
         "5",
         "70000.0"
        ],
        [
         "1161",
         "60",
         "Non-Binary",
         "Asia",
         "Finance",
         "Remote",
         "36",
         null,
         "High",
         "3",
         "Back Pain; Shoulder Pain; Eye Strain",
         "4",
         "50000.0"
        ],
        [
         "1177",
         "34",
         "Non-Binary",
         "South America",
         "Professional Services",
         "Onsite",
         "40",
         "PTSD",
         "Low",
         "5",
         "Eye Strain",
         "3",
         "90000.0"
        ],
        [
         "1274",
         "32",
         "Non-Binary",
         "Asia",
         "Professional Services",
         "Onsite",
         "48",
         "PTSD",
         "Low",
         "3",
         "Eye Strain",
         "2",
         "90000.0"
        ],
        [
         "1323",
         "54",
         "Non-Binary",
         "Oceania",
         "Manufacturing",
         "Onsite",
         "41",
         "Anxiety",
         "Low",
         "3",
         "Back Pain; Eye Strain; Neck Pain",
         "3",
         "110000.0"
        ],
        [
         "1324",
         "44",
         "Non-Binary",
         "Oceania",
         "Education",
         "Onsite",
         "59",
         "Burnout",
         "Low",
         "3",
         "Shoulder Pain; Eye Strain; Neck Pain",
         "2",
         "50000.0"
        ],
        [
         "1331",
         "37",
         "Non-Binary",
         "South America",
         "Manufacturing",
         "Remote",
         "35",
         null,
         "High",
         "3",
         "Shoulder Pain; Eye Strain; Wrist Pain",
         "1",
         "90000.0"
        ],
        [
         "1341",
         "25",
         "Non-Binary",
         "Europe",
         "Professional Services",
         "Onsite",
         "50",
         null,
         "Medium",
         "2",
         "Back Pain; Shoulder Pain; Eye Strain",
         "5",
         "50000.0"
        ],
        [
         "1345",
         "44",
         "Non-Binary",
         "Asia",
         "Professional Services",
         "Onsite",
         "57",
         null,
         "Medium",
         "4",
         "Eye Strain",
         "2",
         "90000.0"
        ],
        [
         "1348",
         "55",
         "Non-Binary",
         "Oceania",
         "Technology",
         "Hybrid",
         "50",
         null,
         "High",
         "3",
         "Back Pain",
         "3",
         "90000.0"
        ],
        [
         "1387",
         "47",
         "Non-Binary",
         "Asia",
         "Professional Services",
         "Onsite",
         "50",
         "PTSD",
         "High",
         "3",
         "Eye Strain",
         "3",
         "70000.0"
        ],
        [
         "1437",
         "60",
         "Non-Binary",
         "Asia",
         "Healthcare",
         "Onsite",
         "59",
         "Anxiety",
         "High",
         "3",
         "Eye Strain; Neck Pain",
         "5",
         "90000.0"
        ],
        [
         "1487",
         "64",
         "Non-Binary",
         "South America",
         "Marketing",
         "Onsite",
         "55",
         "ADHD",
         "High",
         "3",
         "Back Pain; Shoulder Pain",
         "2",
         "90000.0"
        ],
        [
         "1488",
         "30",
         "Non-Binary",
         "Europe",
         "Technology",
         "Hybrid",
         "45",
         "PTSD",
         "High",
         "2",
         "Eye Strain; Neck Pain",
         "3",
         "70000.0"
        ],
        [
         "1504",
         "33",
         "Non-Binary",
         "South America",
         "Education",
         "Onsite",
         "46",
         "Burnout",
         "Medium",
         "3",
         "Back Pain; Shoulder Pain; Eye Strain",
         "4",
         "90000.0"
        ],
        [
         "1523",
         "48",
         "Non-Binary",
         "Asia",
         "Finance",
         "Hybrid",
         "59",
         "Depression",
         "Low",
         "4",
         "Shoulder Pain; Neck Pain",
         "3",
         "90000.0"
        ],
        [
         "1551",
         "53",
         "Non-Binary",
         "Oceania",
         "Retail",
         "Onsite",
         "36",
         null,
         "Low",
         "3",
         "Back Pain; Neck Pain",
         "2",
         "120000.0"
        ],
        [
         "1672",
         "37",
         "Non-Binary",
         "North America",
         "Manufacturing",
         "Hybrid",
         "36",
         "Depression",
         "Medium",
         "2",
         "Shoulder Pain; Eye Strain; Neck Pain",
         "2",
         "50000.0"
        ],
        [
         "1757",
         "36",
         "Non-Binary",
         "Asia",
         "Finance",
         "Onsite",
         "52",
         null,
         "Low",
         "4",
         "Back Pain; Neck Pain; Wrist Pain",
         "3",
         "120000.0"
        ],
        [
         "1856",
         "35",
         "Non-Binary",
         "Asia",
         "Professional Services",
         "Onsite",
         "65",
         "PTSD",
         "Low",
         "3",
         "Back Pain; Eye Strain",
         "3",
         "70000.0"
        ],
        [
         "1922",
         "65",
         "Non-Binary",
         "Europe",
         "Professional Services",
         "Hybrid",
         "54",
         null,
         "High",
         "3",
         "Shoulder Pain; Eye Strain",
         "4",
         "120000.0"
        ],
        [
         "1926",
         "60",
         "Non-Binary",
         "Africa",
         "Technology",
         "Hybrid",
         "50",
         null,
         "High",
         "3",
         "Shoulder Pain; Neck Pain",
         "3",
         "110000.0"
        ],
        [
         "1960",
         "56",
         "Non-Binary",
         "Oceania",
         "Finance",
         "Hybrid",
         "63",
         "ADHD",
         "Medium",
         "2",
         null,
         "1",
         "70000.0"
        ]
       ],
       "shape": {
        "columns": 12,
        "rows": 90
       }
      },
      "text/html": [
       "<div>\n",
       "<style scoped>\n",
       "    .dataframe tbody tr th:only-of-type {\n",
       "        vertical-align: middle;\n",
       "    }\n",
       "\n",
       "    .dataframe tbody tr th {\n",
       "        vertical-align: top;\n",
       "    }\n",
       "\n",
       "    .dataframe thead th {\n",
       "        text-align: right;\n",
       "    }\n",
       "</style>\n",
       "<table border=\"1\" class=\"dataframe\">\n",
       "  <thead>\n",
       "    <tr style=\"text-align: right;\">\n",
       "      <th></th>\n",
       "      <th>Age</th>\n",
       "      <th>Gender</th>\n",
       "      <th>Region</th>\n",
       "      <th>Industry</th>\n",
       "      <th>Work_Arrangement</th>\n",
       "      <th>Hours_Per_Week</th>\n",
       "      <th>Mental_Health_Status</th>\n",
       "      <th>Burnout_Level</th>\n",
       "      <th>Work_Life_Balance_Score</th>\n",
       "      <th>Physical_Health_Issues</th>\n",
       "      <th>Social_Isolation_Score</th>\n",
       "      <th>Avg_Salary</th>\n",
       "    </tr>\n",
       "  </thead>\n",
       "  <tbody>\n",
       "    <tr>\n",
       "      <th>7</th>\n",
       "      <td>63</td>\n",
       "      <td>Non-Binary</td>\n",
       "      <td>Europe</td>\n",
       "      <td>Professional Services</td>\n",
       "      <td>Onsite</td>\n",
       "      <td>55</td>\n",
       "      <td>Anxiety</td>\n",
       "      <td>High</td>\n",
       "      <td>3</td>\n",
       "      <td>NaN</td>\n",
       "      <td>2</td>\n",
       "      <td>110000.0</td>\n",
       "    </tr>\n",
       "    <tr>\n",
       "      <th>138</th>\n",
       "      <td>37</td>\n",
       "      <td>Non-Binary</td>\n",
       "      <td>South America</td>\n",
       "      <td>Technology</td>\n",
       "      <td>Onsite</td>\n",
       "      <td>48</td>\n",
       "      <td>Anxiety</td>\n",
       "      <td>Low</td>\n",
       "      <td>1</td>\n",
       "      <td>NaN</td>\n",
       "      <td>3</td>\n",
       "      <td>90000.0</td>\n",
       "    </tr>\n",
       "    <tr>\n",
       "      <th>149</th>\n",
       "      <td>46</td>\n",
       "      <td>Non-Binary</td>\n",
       "      <td>Europe</td>\n",
       "      <td>Professional Services</td>\n",
       "      <td>Hybrid</td>\n",
       "      <td>45</td>\n",
       "      <td>NaN</td>\n",
       "      <td>Low</td>\n",
       "      <td>5</td>\n",
       "      <td>Shoulder Pain</td>\n",
       "      <td>1</td>\n",
       "      <td>90000.0</td>\n",
       "    </tr>\n",
       "    <tr>\n",
       "      <th>175</th>\n",
       "      <td>60</td>\n",
       "      <td>Non-Binary</td>\n",
       "      <td>South America</td>\n",
       "      <td>Customer Service</td>\n",
       "      <td>Onsite</td>\n",
       "      <td>51</td>\n",
       "      <td>Depression</td>\n",
       "      <td>High</td>\n",
       "      <td>3</td>\n",
       "      <td>Back Pain; Shoulder Pain; Neck Pain</td>\n",
       "      <td>2</td>\n",
       "      <td>70000.0</td>\n",
       "    </tr>\n",
       "    <tr>\n",
       "      <th>191</th>\n",
       "      <td>47</td>\n",
       "      <td>Non-Binary</td>\n",
       "      <td>Africa</td>\n",
       "      <td>Technology</td>\n",
       "      <td>Hybrid</td>\n",
       "      <td>64</td>\n",
       "      <td>Anxiety</td>\n",
       "      <td>Low</td>\n",
       "      <td>3</td>\n",
       "      <td>NaN</td>\n",
       "      <td>1</td>\n",
       "      <td>70000.0</td>\n",
       "    </tr>\n",
       "    <tr>\n",
       "      <th>...</th>\n",
       "      <td>...</td>\n",
       "      <td>...</td>\n",
       "      <td>...</td>\n",
       "      <td>...</td>\n",
       "      <td>...</td>\n",
       "      <td>...</td>\n",
       "      <td>...</td>\n",
       "      <td>...</td>\n",
       "      <td>...</td>\n",
       "      <td>...</td>\n",
       "      <td>...</td>\n",
       "      <td>...</td>\n",
       "    </tr>\n",
       "    <tr>\n",
       "      <th>2955</th>\n",
       "      <td>23</td>\n",
       "      <td>Non-Binary</td>\n",
       "      <td>South America</td>\n",
       "      <td>Technology</td>\n",
       "      <td>Remote</td>\n",
       "      <td>42</td>\n",
       "      <td>Depression</td>\n",
       "      <td>Medium</td>\n",
       "      <td>5</td>\n",
       "      <td>Shoulder Pain</td>\n",
       "      <td>5</td>\n",
       "      <td>50000.0</td>\n",
       "    </tr>\n",
       "    <tr>\n",
       "      <th>2960</th>\n",
       "      <td>38</td>\n",
       "      <td>Non-Binary</td>\n",
       "      <td>Oceania</td>\n",
       "      <td>Healthcare</td>\n",
       "      <td>Remote</td>\n",
       "      <td>39</td>\n",
       "      <td>NaN</td>\n",
       "      <td>High</td>\n",
       "      <td>1</td>\n",
       "      <td>Eye Strain</td>\n",
       "      <td>3</td>\n",
       "      <td>120000.0</td>\n",
       "    </tr>\n",
       "    <tr>\n",
       "      <th>2984</th>\n",
       "      <td>27</td>\n",
       "      <td>Non-Binary</td>\n",
       "      <td>Africa</td>\n",
       "      <td>Marketing</td>\n",
       "      <td>Hybrid</td>\n",
       "      <td>63</td>\n",
       "      <td>ADHD</td>\n",
       "      <td>Low</td>\n",
       "      <td>3</td>\n",
       "      <td>Wrist Pain</td>\n",
       "      <td>3</td>\n",
       "      <td>90000.0</td>\n",
       "    </tr>\n",
       "    <tr>\n",
       "      <th>2994</th>\n",
       "      <td>56</td>\n",
       "      <td>Non-Binary</td>\n",
       "      <td>Asia</td>\n",
       "      <td>Marketing</td>\n",
       "      <td>Onsite</td>\n",
       "      <td>63</td>\n",
       "      <td>PTSD</td>\n",
       "      <td>Medium</td>\n",
       "      <td>4</td>\n",
       "      <td>Eye Strain; Neck Pain</td>\n",
       "      <td>1</td>\n",
       "      <td>90000.0</td>\n",
       "    </tr>\n",
       "    <tr>\n",
       "      <th>3043</th>\n",
       "      <td>63</td>\n",
       "      <td>Non-Binary</td>\n",
       "      <td>Oceania</td>\n",
       "      <td>Finance</td>\n",
       "      <td>Onsite</td>\n",
       "      <td>51</td>\n",
       "      <td>Burnout</td>\n",
       "      <td>High</td>\n",
       "      <td>4</td>\n",
       "      <td>Back Pain; Shoulder Pain; Eye Strain</td>\n",
       "      <td>2</td>\n",
       "      <td>50000.0</td>\n",
       "    </tr>\n",
       "  </tbody>\n",
       "</table>\n",
       "<p>90 rows × 12 columns</p>\n",
       "</div>"
      ],
      "text/plain": [
       "      Age      Gender         Region               Industry Work_Arrangement  \\\n",
       "7      63  Non-Binary         Europe  Professional Services           Onsite   \n",
       "138    37  Non-Binary  South America             Technology           Onsite   \n",
       "149    46  Non-Binary         Europe  Professional Services           Hybrid   \n",
       "175    60  Non-Binary  South America       Customer Service           Onsite   \n",
       "191    47  Non-Binary         Africa             Technology           Hybrid   \n",
       "...   ...         ...            ...                    ...              ...   \n",
       "2955   23  Non-Binary  South America             Technology           Remote   \n",
       "2960   38  Non-Binary        Oceania             Healthcare           Remote   \n",
       "2984   27  Non-Binary         Africa              Marketing           Hybrid   \n",
       "2994   56  Non-Binary           Asia              Marketing           Onsite   \n",
       "3043   63  Non-Binary        Oceania                Finance           Onsite   \n",
       "\n",
       "      Hours_Per_Week Mental_Health_Status Burnout_Level  \\\n",
       "7                 55              Anxiety          High   \n",
       "138               48              Anxiety           Low   \n",
       "149               45                  NaN           Low   \n",
       "175               51           Depression          High   \n",
       "191               64              Anxiety           Low   \n",
       "...              ...                  ...           ...   \n",
       "2955              42           Depression        Medium   \n",
       "2960              39                  NaN          High   \n",
       "2984              63                 ADHD           Low   \n",
       "2994              63                 PTSD        Medium   \n",
       "3043              51              Burnout          High   \n",
       "\n",
       "      Work_Life_Balance_Score                Physical_Health_Issues  \\\n",
       "7                           3                                   NaN   \n",
       "138                         1                                   NaN   \n",
       "149                         5                         Shoulder Pain   \n",
       "175                         3   Back Pain; Shoulder Pain; Neck Pain   \n",
       "191                         3                                   NaN   \n",
       "...                       ...                                   ...   \n",
       "2955                        5                         Shoulder Pain   \n",
       "2960                        1                            Eye Strain   \n",
       "2984                        3                            Wrist Pain   \n",
       "2994                        4                 Eye Strain; Neck Pain   \n",
       "3043                        4  Back Pain; Shoulder Pain; Eye Strain   \n",
       "\n",
       "      Social_Isolation_Score  Avg_Salary  \n",
       "7                          2    110000.0  \n",
       "138                        3     90000.0  \n",
       "149                        1     90000.0  \n",
       "175                        2     70000.0  \n",
       "191                        1     70000.0  \n",
       "...                      ...         ...  \n",
       "2955                       5     50000.0  \n",
       "2960                       3    120000.0  \n",
       "2984                       3     90000.0  \n",
       "2994                       1     90000.0  \n",
       "3043                       2     50000.0  \n",
       "\n",
       "[90 rows x 12 columns]"
      ]
     },
     "execution_count": 18,
     "metadata": {},
     "output_type": "execute_result"
    }
   ],
   "source": [
    "df['Gender'] = df['Gender'].str.strip().str.title()\n",
    "df[df['Gender'] == 'Non-Binary']\n",
    "\n",
    "# Sorry, my mistake, I mistyped the word which i want to filter, this works perfectly:\n",
    "# df[df['Gender'] == 'Non-binary'] "
   ]
  },
  {
   "cell_type": "code",
   "execution_count": 19,
   "id": "a59fb8b0",
   "metadata": {},
   "outputs": [
    {
     "data": {
      "application/vnd.microsoft.datawrangler.viewer.v0+json": {
       "columns": [
        {
         "name": "index",
         "rawType": "int64",
         "type": "integer"
        },
        {
         "name": "Age",
         "rawType": "int64",
         "type": "integer"
        },
        {
         "name": "Gender",
         "rawType": "object",
         "type": "string"
        },
        {
         "name": "Region",
         "rawType": "object",
         "type": "string"
        },
        {
         "name": "Industry",
         "rawType": "object",
         "type": "string"
        },
        {
         "name": "Work_Arrangement",
         "rawType": "object",
         "type": "string"
        },
        {
         "name": "Hours_Per_Week",
         "rawType": "int64",
         "type": "integer"
        },
        {
         "name": "Mental_Health_Status",
         "rawType": "object",
         "type": "unknown"
        },
        {
         "name": "Burnout_Level",
         "rawType": "object",
         "type": "string"
        },
        {
         "name": "Work_Life_Balance_Score",
         "rawType": "int64",
         "type": "integer"
        },
        {
         "name": "Physical_Health_Issues",
         "rawType": "object",
         "type": "unknown"
        },
        {
         "name": "Social_Isolation_Score",
         "rawType": "int64",
         "type": "integer"
        },
        {
         "name": "Avg_Salary",
         "rawType": "float64",
         "type": "float"
        }
       ],
       "ref": "0f231109-20f0-4361-a733-78412941c0a7",
       "rows": [
        [
         "7",
         "63",
         "Non-Binary",
         "Europe",
         "Professional Services",
         "Onsite",
         "55",
         "Anxiety",
         "High",
         "3",
         null,
         "2",
         "110000.0"
        ],
        [
         "138",
         "37",
         "Non-Binary",
         "South America",
         "Technology",
         "Onsite",
         "48",
         "Anxiety",
         "Low",
         "1",
         null,
         "3",
         "90000.0"
        ],
        [
         "149",
         "46",
         "Non-Binary",
         "Europe",
         "Professional Services",
         "Hybrid",
         "45",
         null,
         "Low",
         "5",
         "Shoulder Pain",
         "1",
         "90000.0"
        ],
        [
         "175",
         "60",
         "Non-Binary",
         "South America",
         "Customer Service",
         "Onsite",
         "51",
         "Depression",
         "High",
         "3",
         "Back Pain; Shoulder Pain; Neck Pain",
         "2",
         "70000.0"
        ],
        [
         "191",
         "47",
         "Non-Binary",
         "Africa",
         "Technology",
         "Hybrid",
         "64",
         "Anxiety",
         "Low",
         "3",
         null,
         "1",
         "70000.0"
        ],
        [
         "221",
         "45",
         "Non-Binary",
         "Asia",
         "Education",
         "Remote",
         "53",
         null,
         "High",
         "4",
         "Shoulder Pain",
         "1",
         "70000.0"
        ],
        [
         "245",
         "43",
         "Non-Binary",
         "Europe",
         "Finance",
         "Onsite",
         "56",
         null,
         "Medium",
         "4",
         "Back Pain; Shoulder Pain; Neck Pain",
         "3",
         "110000.0"
        ],
        [
         "285",
         "42",
         "Non-Binary",
         "North America",
         "Healthcare",
         "Onsite",
         "44",
         "Stress Disorder",
         "Medium",
         "3",
         "Back Pain; Shoulder Pain; Eye Strain",
         "3",
         "70000.0"
        ],
        [
         "301",
         "55",
         "Non-Binary",
         "South America",
         "Finance",
         "Hybrid",
         "58",
         null,
         "Low",
         "2",
         "Shoulder Pain",
         "1",
         "90000.0"
        ],
        [
         "333",
         "42",
         "Non-Binary",
         "Africa",
         "Finance",
         "Hybrid",
         "55",
         "Depression",
         "Medium",
         "1",
         null,
         "3",
         "90000.0"
        ],
        [
         "363",
         "35",
         "Prefer Not To Say",
         "Africa",
         "Education",
         "Onsite",
         "63",
         null,
         "Low",
         "5",
         null,
         "2",
         "50000.0"
        ],
        [
         "398",
         "33",
         "Prefer Not To Say",
         "North America",
         "Professional Services",
         "Remote",
         "46",
         "Anxiety",
         "High",
         "1",
         "Eye Strain; Wrist Pain",
         "3",
         "70000.0"
        ],
        [
         "402",
         "28",
         "Non-Binary",
         "Africa",
         "Manufacturing",
         "Hybrid",
         "58",
         "Burnout",
         "Low",
         "5",
         "Back Pain",
         "4",
         "90000.0"
        ],
        [
         "408",
         "52",
         "Prefer Not To Say",
         "Africa",
         "Professional Services",
         "Hybrid",
         "51",
         "Anxiety",
         "Medium",
         "1",
         "Back Pain; Eye Strain; Wrist Pain",
         "2",
         "70000.0"
        ],
        [
         "416",
         "27",
         "Non-Binary",
         "North America",
         "Manufacturing",
         "Onsite",
         "63",
         null,
         "Low",
         "3",
         null,
         "2",
         "70000.0"
        ],
        [
         "430",
         "28",
         "Prefer Not To Say",
         "Europe",
         "Professional Services",
         "Onsite",
         "48",
         "Depression",
         "Low",
         "3",
         "Eye Strain",
         "2",
         "70000.0"
        ],
        [
         "502",
         "45",
         "Non-Binary",
         "Oceania",
         "Technology",
         "Remote",
         "56",
         null,
         "Medium",
         "1",
         "Eye Strain; Neck Pain",
         "5",
         "120000.0"
        ],
        [
         "523",
         "56",
         "Prefer Not To Say",
         "South America",
         "Manufacturing",
         "Remote",
         "50",
         null,
         "Medium",
         "3",
         null,
         "3",
         "120000.0"
        ],
        [
         "563",
         "29",
         "Non-Binary",
         "Asia",
         "Education",
         "Hybrid",
         "61",
         null,
         "Medium",
         "5",
         "Eye Strain",
         "2",
         "90000.0"
        ],
        [
         "564",
         "40",
         "Prefer Not To Say",
         "Asia",
         "Professional Services",
         "Onsite",
         "47",
         "Burnout",
         "High",
         "2",
         "Wrist Pain",
         "2",
         "50000.0"
        ],
        [
         "597",
         "44",
         "Non-Binary",
         "Asia",
         "Technology",
         "Hybrid",
         "35",
         null,
         "Medium",
         "4",
         "Shoulder Pain",
         "2",
         "70000.0"
        ],
        [
         "605",
         "58",
         "Non-Binary",
         "Asia",
         "Education",
         "Onsite",
         "46",
         "PTSD",
         "Medium",
         "5",
         null,
         "1",
         "90000.0"
        ],
        [
         "607",
         "33",
         "Non-Binary",
         "Africa",
         "Professional Services",
         "Hybrid",
         "35",
         "Stress Disorder",
         "Medium",
         "2",
         "Eye Strain; Neck Pain",
         "1",
         "70000.0"
        ],
        [
         "609",
         "52",
         "Non-Binary",
         "North America",
         "Professional Services",
         "Remote",
         "64",
         "Depression",
         "High",
         "2",
         "Back Pain; Eye Strain",
         "4",
         "90000.0"
        ],
        [
         "655",
         "36",
         "Non-Binary",
         "North America",
         "Professional Services",
         "Hybrid",
         "48",
         null,
         "Medium",
         "3",
         "Back Pain; Eye Strain",
         "1",
         "90000.0"
        ],
        [
         "748",
         "43",
         "Prefer Not To Say",
         "Africa",
         "Marketing",
         "Hybrid",
         "46",
         "Burnout",
         "Medium",
         "2",
         "Shoulder Pain; Eye Strain",
         "3",
         "120000.0"
        ],
        [
         "770",
         "65",
         "Prefer Not To Say",
         "Africa",
         "Professional Services",
         "Onsite",
         "35",
         "Stress Disorder",
         "Low",
         "3",
         "Shoulder Pain",
         "5",
         "110000.0"
        ],
        [
         "799",
         "64",
         "Non-Binary",
         "Africa",
         "Education",
         "Onsite",
         "51",
         "Depression",
         "High",
         "3",
         "Back Pain; Eye Strain",
         "1",
         "90000.0"
        ],
        [
         "819",
         "59",
         "Prefer Not To Say",
         "Europe",
         "Manufacturing",
         "Hybrid",
         "40",
         "Burnout",
         "High",
         "1",
         "Shoulder Pain; Eye Strain; Neck Pain",
         "1",
         "90000.0"
        ],
        [
         "944",
         "58",
         "Non-Binary",
         "Oceania",
         "Healthcare",
         "Onsite",
         "65",
         "Anxiety",
         "High",
         "2",
         "Back Pain",
         "2",
         "70000.0"
        ],
        [
         "954",
         "31",
         "Prefer Not To Say",
         "North America",
         "Retail",
         "Remote",
         "39",
         "Burnout",
         "High",
         "5",
         "Eye Strain; Neck Pain",
         "2",
         "120000.0"
        ],
        [
         "957",
         "52",
         "Prefer Not To Say",
         "Europe",
         "Professional Services",
         "Onsite",
         "55",
         null,
         "Low",
         "4",
         "Back Pain; Eye Strain",
         "1",
         "50000.0"
        ],
        [
         "973",
         "58",
         "Non-Binary",
         "Europe",
         "Customer Service",
         "Hybrid",
         "56",
         "Anxiety",
         "Medium",
         "2",
         "Back Pain; Eye Strain",
         "5",
         "70000.0"
        ],
        [
         "1009",
         "65",
         "Non-Binary",
         "North America",
         "Marketing",
         "Onsite",
         "62",
         "Depression",
         "Medium",
         "5",
         "Back Pain; Eye Strain; Neck Pain",
         "2",
         "70000.0"
        ],
        [
         "1026",
         "54",
         "Non-Binary",
         "Asia",
         "Manufacturing",
         "Onsite",
         "46",
         "PTSD",
         "Medium",
         "3",
         "Eye Strain",
         "5",
         "110000.0"
        ],
        [
         "1027",
         "22",
         "Non-Binary",
         "Oceania",
         "Professional Services",
         "Onsite",
         "56",
         "Anxiety",
         "Low",
         "3",
         "Back Pain; Shoulder Pain; Wrist Pain",
         "2",
         "70000.0"
        ],
        [
         "1054",
         "48",
         "Non-Binary",
         "Africa",
         "Technology",
         "Onsite",
         "45",
         "ADHD",
         "Low",
         "3",
         "Back Pain; Eye Strain; Wrist Pain",
         "2",
         "90000.0"
        ],
        [
         "1057",
         "42",
         "Prefer Not To Say",
         "Europe",
         "Retail",
         "Remote",
         "59",
         "PTSD",
         "High",
         "2",
         "Wrist Pain",
         "4",
         "70000.0"
        ],
        [
         "1065",
         "45",
         "Non-Binary",
         "Europe",
         "Customer Service",
         "Hybrid",
         "44",
         "PTSD",
         "High",
         "3",
         "Shoulder Pain; Eye Strain",
         "5",
         "90000.0"
        ],
        [
         "1105",
         "52",
         "Prefer Not To Say",
         "North America",
         "Retail",
         "Onsite",
         "41",
         "ADHD",
         "Low",
         "5",
         "Wrist Pain",
         "2",
         "70000.0"
        ],
        [
         "1117",
         "27",
         "Non-Binary",
         "Europe",
         "Marketing",
         "Remote",
         "47",
         "PTSD",
         "Medium",
         "1",
         "Back Pain; Eye Strain",
         "5",
         "70000.0"
        ],
        [
         "1133",
         "27",
         "Prefer Not To Say",
         "South America",
         "Finance",
         "Remote",
         "54",
         null,
         "Low",
         "2",
         "Back Pain; Neck Pain",
         "2",
         "50000.0"
        ],
        [
         "1161",
         "60",
         "Non-Binary",
         "Asia",
         "Finance",
         "Remote",
         "36",
         null,
         "High",
         "3",
         "Back Pain; Shoulder Pain; Eye Strain",
         "4",
         "50000.0"
        ],
        [
         "1177",
         "34",
         "Non-Binary",
         "South America",
         "Professional Services",
         "Onsite",
         "40",
         "PTSD",
         "Low",
         "5",
         "Eye Strain",
         "3",
         "90000.0"
        ],
        [
         "1274",
         "32",
         "Non-Binary",
         "Asia",
         "Professional Services",
         "Onsite",
         "48",
         "PTSD",
         "Low",
         "3",
         "Eye Strain",
         "2",
         "90000.0"
        ],
        [
         "1297",
         "58",
         "Prefer Not To Say",
         "North America",
         "Finance",
         "Onsite",
         "60",
         "PTSD",
         "High",
         "4",
         "Back Pain; Wrist Pain",
         "2",
         "110000.0"
        ],
        [
         "1323",
         "54",
         "Non-Binary",
         "Oceania",
         "Manufacturing",
         "Onsite",
         "41",
         "Anxiety",
         "Low",
         "3",
         "Back Pain; Eye Strain; Neck Pain",
         "3",
         "110000.0"
        ],
        [
         "1324",
         "44",
         "Non-Binary",
         "Oceania",
         "Education",
         "Onsite",
         "59",
         "Burnout",
         "Low",
         "3",
         "Shoulder Pain; Eye Strain; Neck Pain",
         "2",
         "50000.0"
        ],
        [
         "1331",
         "37",
         "Non-Binary",
         "South America",
         "Manufacturing",
         "Remote",
         "35",
         null,
         "High",
         "3",
         "Shoulder Pain; Eye Strain; Wrist Pain",
         "1",
         "90000.0"
        ],
        [
         "1341",
         "25",
         "Non-Binary",
         "Europe",
         "Professional Services",
         "Onsite",
         "50",
         null,
         "Medium",
         "2",
         "Back Pain; Shoulder Pain; Eye Strain",
         "5",
         "50000.0"
        ]
       ],
       "shape": {
        "columns": 12,
        "rows": 122
       }
      },
      "text/html": [
       "<div>\n",
       "<style scoped>\n",
       "    .dataframe tbody tr th:only-of-type {\n",
       "        vertical-align: middle;\n",
       "    }\n",
       "\n",
       "    .dataframe tbody tr th {\n",
       "        vertical-align: top;\n",
       "    }\n",
       "\n",
       "    .dataframe thead th {\n",
       "        text-align: right;\n",
       "    }\n",
       "</style>\n",
       "<table border=\"1\" class=\"dataframe\">\n",
       "  <thead>\n",
       "    <tr style=\"text-align: right;\">\n",
       "      <th></th>\n",
       "      <th>Age</th>\n",
       "      <th>Gender</th>\n",
       "      <th>Region</th>\n",
       "      <th>Industry</th>\n",
       "      <th>Work_Arrangement</th>\n",
       "      <th>Hours_Per_Week</th>\n",
       "      <th>Mental_Health_Status</th>\n",
       "      <th>Burnout_Level</th>\n",
       "      <th>Work_Life_Balance_Score</th>\n",
       "      <th>Physical_Health_Issues</th>\n",
       "      <th>Social_Isolation_Score</th>\n",
       "      <th>Avg_Salary</th>\n",
       "    </tr>\n",
       "  </thead>\n",
       "  <tbody>\n",
       "    <tr>\n",
       "      <th>7</th>\n",
       "      <td>63</td>\n",
       "      <td>Non-Binary</td>\n",
       "      <td>Europe</td>\n",
       "      <td>Professional Services</td>\n",
       "      <td>Onsite</td>\n",
       "      <td>55</td>\n",
       "      <td>Anxiety</td>\n",
       "      <td>High</td>\n",
       "      <td>3</td>\n",
       "      <td>NaN</td>\n",
       "      <td>2</td>\n",
       "      <td>110000.0</td>\n",
       "    </tr>\n",
       "    <tr>\n",
       "      <th>138</th>\n",
       "      <td>37</td>\n",
       "      <td>Non-Binary</td>\n",
       "      <td>South America</td>\n",
       "      <td>Technology</td>\n",
       "      <td>Onsite</td>\n",
       "      <td>48</td>\n",
       "      <td>Anxiety</td>\n",
       "      <td>Low</td>\n",
       "      <td>1</td>\n",
       "      <td>NaN</td>\n",
       "      <td>3</td>\n",
       "      <td>90000.0</td>\n",
       "    </tr>\n",
       "    <tr>\n",
       "      <th>149</th>\n",
       "      <td>46</td>\n",
       "      <td>Non-Binary</td>\n",
       "      <td>Europe</td>\n",
       "      <td>Professional Services</td>\n",
       "      <td>Hybrid</td>\n",
       "      <td>45</td>\n",
       "      <td>NaN</td>\n",
       "      <td>Low</td>\n",
       "      <td>5</td>\n",
       "      <td>Shoulder Pain</td>\n",
       "      <td>1</td>\n",
       "      <td>90000.0</td>\n",
       "    </tr>\n",
       "    <tr>\n",
       "      <th>175</th>\n",
       "      <td>60</td>\n",
       "      <td>Non-Binary</td>\n",
       "      <td>South America</td>\n",
       "      <td>Customer Service</td>\n",
       "      <td>Onsite</td>\n",
       "      <td>51</td>\n",
       "      <td>Depression</td>\n",
       "      <td>High</td>\n",
       "      <td>3</td>\n",
       "      <td>Back Pain; Shoulder Pain; Neck Pain</td>\n",
       "      <td>2</td>\n",
       "      <td>70000.0</td>\n",
       "    </tr>\n",
       "    <tr>\n",
       "      <th>191</th>\n",
       "      <td>47</td>\n",
       "      <td>Non-Binary</td>\n",
       "      <td>Africa</td>\n",
       "      <td>Technology</td>\n",
       "      <td>Hybrid</td>\n",
       "      <td>64</td>\n",
       "      <td>Anxiety</td>\n",
       "      <td>Low</td>\n",
       "      <td>3</td>\n",
       "      <td>NaN</td>\n",
       "      <td>1</td>\n",
       "      <td>70000.0</td>\n",
       "    </tr>\n",
       "    <tr>\n",
       "      <th>...</th>\n",
       "      <td>...</td>\n",
       "      <td>...</td>\n",
       "      <td>...</td>\n",
       "      <td>...</td>\n",
       "      <td>...</td>\n",
       "      <td>...</td>\n",
       "      <td>...</td>\n",
       "      <td>...</td>\n",
       "      <td>...</td>\n",
       "      <td>...</td>\n",
       "      <td>...</td>\n",
       "      <td>...</td>\n",
       "    </tr>\n",
       "    <tr>\n",
       "      <th>2984</th>\n",
       "      <td>27</td>\n",
       "      <td>Non-Binary</td>\n",
       "      <td>Africa</td>\n",
       "      <td>Marketing</td>\n",
       "      <td>Hybrid</td>\n",
       "      <td>63</td>\n",
       "      <td>ADHD</td>\n",
       "      <td>Low</td>\n",
       "      <td>3</td>\n",
       "      <td>Wrist Pain</td>\n",
       "      <td>3</td>\n",
       "      <td>90000.0</td>\n",
       "    </tr>\n",
       "    <tr>\n",
       "      <th>2994</th>\n",
       "      <td>56</td>\n",
       "      <td>Non-Binary</td>\n",
       "      <td>Asia</td>\n",
       "      <td>Marketing</td>\n",
       "      <td>Onsite</td>\n",
       "      <td>63</td>\n",
       "      <td>PTSD</td>\n",
       "      <td>Medium</td>\n",
       "      <td>4</td>\n",
       "      <td>Eye Strain; Neck Pain</td>\n",
       "      <td>1</td>\n",
       "      <td>90000.0</td>\n",
       "    </tr>\n",
       "    <tr>\n",
       "      <th>3004</th>\n",
       "      <td>35</td>\n",
       "      <td>Prefer Not To Say</td>\n",
       "      <td>South America</td>\n",
       "      <td>Professional Services</td>\n",
       "      <td>Onsite</td>\n",
       "      <td>44</td>\n",
       "      <td>Burnout</td>\n",
       "      <td>Medium</td>\n",
       "      <td>4</td>\n",
       "      <td>Back Pain; Shoulder Pain; Neck Pain; Wrist Pain</td>\n",
       "      <td>4</td>\n",
       "      <td>90000.0</td>\n",
       "    </tr>\n",
       "    <tr>\n",
       "      <th>3043</th>\n",
       "      <td>63</td>\n",
       "      <td>Non-Binary</td>\n",
       "      <td>Oceania</td>\n",
       "      <td>Finance</td>\n",
       "      <td>Onsite</td>\n",
       "      <td>51</td>\n",
       "      <td>Burnout</td>\n",
       "      <td>High</td>\n",
       "      <td>4</td>\n",
       "      <td>Back Pain; Shoulder Pain; Eye Strain</td>\n",
       "      <td>2</td>\n",
       "      <td>50000.0</td>\n",
       "    </tr>\n",
       "    <tr>\n",
       "      <th>3107</th>\n",
       "      <td>43</td>\n",
       "      <td>Prefer Not To Say</td>\n",
       "      <td>Africa</td>\n",
       "      <td>Education</td>\n",
       "      <td>Onsite</td>\n",
       "      <td>60</td>\n",
       "      <td>NaN</td>\n",
       "      <td>Low</td>\n",
       "      <td>2</td>\n",
       "      <td>Back Pain; Eye Strain</td>\n",
       "      <td>3</td>\n",
       "      <td>110000.0</td>\n",
       "    </tr>\n",
       "  </tbody>\n",
       "</table>\n",
       "<p>122 rows × 12 columns</p>\n",
       "</div>"
      ],
      "text/plain": [
       "      Age             Gender         Region               Industry  \\\n",
       "7      63         Non-Binary         Europe  Professional Services   \n",
       "138    37         Non-Binary  South America             Technology   \n",
       "149    46         Non-Binary         Europe  Professional Services   \n",
       "175    60         Non-Binary  South America       Customer Service   \n",
       "191    47         Non-Binary         Africa             Technology   \n",
       "...   ...                ...            ...                    ...   \n",
       "2984   27         Non-Binary         Africa              Marketing   \n",
       "2994   56         Non-Binary           Asia              Marketing   \n",
       "3004   35  Prefer Not To Say  South America  Professional Services   \n",
       "3043   63         Non-Binary        Oceania                Finance   \n",
       "3107   43  Prefer Not To Say         Africa              Education   \n",
       "\n",
       "     Work_Arrangement  Hours_Per_Week Mental_Health_Status Burnout_Level  \\\n",
       "7              Onsite              55              Anxiety          High   \n",
       "138            Onsite              48              Anxiety           Low   \n",
       "149            Hybrid              45                  NaN           Low   \n",
       "175            Onsite              51           Depression          High   \n",
       "191            Hybrid              64              Anxiety           Low   \n",
       "...               ...             ...                  ...           ...   \n",
       "2984           Hybrid              63                 ADHD           Low   \n",
       "2994           Onsite              63                 PTSD        Medium   \n",
       "3004           Onsite              44              Burnout        Medium   \n",
       "3043           Onsite              51              Burnout          High   \n",
       "3107           Onsite              60                  NaN           Low   \n",
       "\n",
       "      Work_Life_Balance_Score  \\\n",
       "7                           3   \n",
       "138                         1   \n",
       "149                         5   \n",
       "175                         3   \n",
       "191                         3   \n",
       "...                       ...   \n",
       "2984                        3   \n",
       "2994                        4   \n",
       "3004                        4   \n",
       "3043                        4   \n",
       "3107                        2   \n",
       "\n",
       "                               Physical_Health_Issues  Social_Isolation_Score  \\\n",
       "7                                                 NaN                       2   \n",
       "138                                               NaN                       3   \n",
       "149                                     Shoulder Pain                       1   \n",
       "175               Back Pain; Shoulder Pain; Neck Pain                       2   \n",
       "191                                               NaN                       1   \n",
       "...                                               ...                     ...   \n",
       "2984                                       Wrist Pain                       3   \n",
       "2994                            Eye Strain; Neck Pain                       1   \n",
       "3004  Back Pain; Shoulder Pain; Neck Pain; Wrist Pain                       4   \n",
       "3043             Back Pain; Shoulder Pain; Eye Strain                       2   \n",
       "3107                            Back Pain; Eye Strain                       3   \n",
       "\n",
       "      Avg_Salary  \n",
       "7       110000.0  \n",
       "138      90000.0  \n",
       "149      90000.0  \n",
       "175      70000.0  \n",
       "191      70000.0  \n",
       "...          ...  \n",
       "2984     90000.0  \n",
       "2994     90000.0  \n",
       "3004     90000.0  \n",
       "3043     50000.0  \n",
       "3107    110000.0  \n",
       "\n",
       "[122 rows x 12 columns]"
      ]
     },
     "execution_count": 19,
     "metadata": {},
     "output_type": "execute_result"
    }
   ],
   "source": [
    "df[df['Gender'].isin(['Prefer Not To Say', 'Non-Binary'])]"
   ]
  },
  {
   "cell_type": "markdown",
   "id": "8d63f022",
   "metadata": {},
   "source": [
    "As my goal is **training an ML model**, and class imbalance is extreme:\n",
    "\n",
    "- The data have only **122 out of 3157** (≈3.8%) in these two categories.\n",
    "- This might not generalize well in model training (especially for categorical encoders).\n",
    "\n",
    "✅ Then dropping them is acceptable:\n",
    "\n",
    "> “The categories ‘Non-Binary’ and ‘Prefer not to say’ (≈3.8% of total data) were excluded from training to prevent model bias from extreme class imbalance.”\n"
   ]
  },
  {
   "cell_type": "code",
   "execution_count": 20,
   "id": "d509c8a6",
   "metadata": {},
   "outputs": [],
   "source": [
    "df.drop(df[df['Gender'].isin(['Non-Binary', 'Prefer Not To Say'])].index, inplace=True)"
   ]
  },
  {
   "cell_type": "code",
   "execution_count": 21,
   "id": "2de2f508",
   "metadata": {},
   "outputs": [
    {
     "data": {
      "application/vnd.microsoft.datawrangler.viewer.v0+json": {
       "columns": [
        {
         "name": "Gender",
         "rawType": "object",
         "type": "string"
        },
        {
         "name": "count",
         "rawType": "int64",
         "type": "integer"
        }
       ],
       "ref": "be28eb47-a582-47cc-aa95-943fb031fa4e",
       "rows": [
        [
         "Male",
         "1535"
        ],
        [
         "Female",
         "1500"
        ]
       ],
       "shape": {
        "columns": 1,
        "rows": 2
       }
      },
      "text/plain": [
       "Gender\n",
       "Male      1535\n",
       "Female    1500\n",
       "Name: count, dtype: int64"
      ]
     },
     "execution_count": 21,
     "metadata": {},
     "output_type": "execute_result"
    }
   ],
   "source": [
    "df['Gender'].value_counts()"
   ]
  },
  {
   "cell_type": "code",
   "execution_count": 22,
   "id": "3bb85e89",
   "metadata": {},
   "outputs": [
    {
     "name": "stdout",
     "output_type": "stream",
     "text": [
      "<class 'pandas.core.frame.DataFrame'>\n",
      "Index: 3035 entries, 0 to 3156\n",
      "Data columns (total 12 columns):\n",
      " #   Column                   Non-Null Count  Dtype  \n",
      "---  ------                   --------------  -----  \n",
      " 0   Age                      3035 non-null   int64  \n",
      " 1   Gender                   3035 non-null   object \n",
      " 2   Region                   3035 non-null   object \n",
      " 3   Industry                 3035 non-null   object \n",
      " 4   Work_Arrangement         3035 non-null   object \n",
      " 5   Hours_Per_Week           3035 non-null   int64  \n",
      " 6   Mental_Health_Status     2273 non-null   object \n",
      " 7   Burnout_Level            3035 non-null   object \n",
      " 8   Work_Life_Balance_Score  3035 non-null   int64  \n",
      " 9   Physical_Health_Issues   2768 non-null   object \n",
      " 10  Social_Isolation_Score   3035 non-null   int64  \n",
      " 11  Avg_Salary               3035 non-null   float64\n",
      "dtypes: float64(1), int64(4), object(7)\n",
      "memory usage: 308.2+ KB\n"
     ]
    }
   ],
   "source": [
    "df.info()"
   ]
  },
  {
   "cell_type": "code",
   "execution_count": 23,
   "id": "0633a6d6",
   "metadata": {},
   "outputs": [
    {
     "name": "stdout",
     "output_type": "stream",
     "text": [
      "762 267\n"
     ]
    }
   ],
   "source": [
    "print(df['Mental_Health_Status'].isnull().sum(),\n",
    "df['Physical_Health_Issues'].isnull().sum())"
   ]
  },
  {
   "cell_type": "code",
   "execution_count": 24,
   "id": "ecba7522",
   "metadata": {},
   "outputs": [
    {
     "data": {
      "application/vnd.microsoft.datawrangler.viewer.v0+json": {
       "columns": [
        {
         "name": "Mental_Health_Status",
         "rawType": "object",
         "type": "string"
        },
        {
         "name": "count",
         "rawType": "int64",
         "type": "integer"
        }
       ],
       "ref": "a8a3c444-9e7a-4620-9230-5e50890e3190",
       "rows": [
        [
         "PTSD",
         "409"
        ],
        [
         "ADHD",
         "376"
        ],
        [
         "Anxiety",
         "374"
        ],
        [
         "Burnout",
         "373"
        ],
        [
         "Depression",
         "372"
        ],
        [
         "Stress Disorder",
         "369"
        ]
       ],
       "shape": {
        "columns": 1,
        "rows": 6
       }
      },
      "text/plain": [
       "Mental_Health_Status\n",
       "PTSD               409\n",
       "ADHD               376\n",
       "Anxiety            374\n",
       "Burnout            373\n",
       "Depression         372\n",
       "Stress Disorder    369\n",
       "Name: count, dtype: int64"
      ]
     },
     "execution_count": 24,
     "metadata": {},
     "output_type": "execute_result"
    }
   ],
   "source": [
    "df['Mental_Health_Status'].value_counts() \n"
   ]
  },
  {
   "cell_type": "code",
   "execution_count": 25,
   "id": "c3b57243",
   "metadata": {},
   "outputs": [
    {
     "data": {
      "application/vnd.microsoft.datawrangler.viewer.v0+json": {
       "columns": [
        {
         "name": "Physical_Health_Issues",
         "rawType": "object",
         "type": "string"
        },
        {
         "name": "count",
         "rawType": "int64",
         "type": "integer"
        }
       ],
       "ref": "6ef3dcb7-15aa-4379-a6cb-b210e88d4245",
       "rows": [
        [
         "Shoulder Pain; Eye Strain",
         "256"
        ],
        [
         "Back Pain",
         "247"
        ],
        [
         "Back Pain; Eye Strain",
         "246"
        ],
        [
         "Back Pain; Shoulder Pain; Eye Strain",
         "245"
        ],
        [
         "Eye Strain",
         "243"
        ],
        [
         "Shoulder Pain",
         "223"
        ],
        [
         "Back Pain; Shoulder Pain",
         "216"
        ],
        [
         "Neck Pain",
         "91"
        ],
        [
         "Back Pain; Eye Strain; Neck Pain",
         "89"
        ],
        [
         "Back Pain; Shoulder Pain; Eye Strain; Neck Pain",
         "88"
        ],
        [
         "Back Pain; Neck Pain",
         "85"
        ],
        [
         "Eye Strain; Neck Pain",
         "79"
        ],
        [
         "Shoulder Pain; Neck Pain",
         "74"
        ],
        [
         "Shoulder Pain; Eye Strain; Neck Pain",
         "71"
        ],
        [
         "Back Pain; Shoulder Pain; Neck Pain",
         "66"
        ],
        [
         "Back Pain; Shoulder Pain; Eye Strain; Wrist Pain",
         "51"
        ],
        [
         "Back Pain; Wrist Pain",
         "44"
        ],
        [
         "Wrist Pain",
         "43"
        ],
        [
         "Eye Strain; Wrist Pain",
         "42"
        ],
        [
         "Back Pain; Shoulder Pain; Wrist Pain",
         "40"
        ],
        [
         "Shoulder Pain; Wrist Pain",
         "38"
        ],
        [
         "Shoulder Pain; Eye Strain; Wrist Pain",
         "37"
        ],
        [
         "Back Pain; Eye Strain; Wrist Pain",
         "34"
        ],
        [
         "Neck Pain; Wrist Pain",
         "23"
        ],
        [
         "Back Pain; Shoulder Pain; Neck Pain; Wrist Pain",
         "18"
        ],
        [
         "Back Pain; Eye Strain; Neck Pain; Wrist Pain",
         "17"
        ],
        [
         "Back Pain; Shoulder Pain; Eye Strain; Neck Pain; Wrist Pain",
         "17"
        ],
        [
         "Back Pain; Neck Pain; Wrist Pain",
         "12"
        ],
        [
         "Eye Strain; Neck Pain; Wrist Pain",
         "12"
        ],
        [
         "Shoulder Pain; Eye Strain; Neck Pain; Wrist Pain",
         "11"
        ],
        [
         "Shoulder Pain; Neck Pain; Wrist Pain",
         "10"
        ]
       ],
       "shape": {
        "columns": 1,
        "rows": 31
       }
      },
      "text/plain": [
       "Physical_Health_Issues\n",
       "Shoulder Pain; Eye Strain                                      256\n",
       "Back Pain                                                      247\n",
       "Back Pain; Eye Strain                                          246\n",
       "Back Pain; Shoulder Pain; Eye Strain                           245\n",
       "Eye Strain                                                     243\n",
       "Shoulder Pain                                                  223\n",
       "Back Pain; Shoulder Pain                                       216\n",
       "Neck Pain                                                       91\n",
       "Back Pain; Eye Strain; Neck Pain                                89\n",
       "Back Pain; Shoulder Pain; Eye Strain; Neck Pain                 88\n",
       "Back Pain; Neck Pain                                            85\n",
       "Eye Strain; Neck Pain                                           79\n",
       "Shoulder Pain; Neck Pain                                        74\n",
       "Shoulder Pain; Eye Strain; Neck Pain                            71\n",
       "Back Pain; Shoulder Pain; Neck Pain                             66\n",
       "Back Pain; Shoulder Pain; Eye Strain; Wrist Pain                51\n",
       "Back Pain; Wrist Pain                                           44\n",
       "Wrist Pain                                                      43\n",
       "Eye Strain; Wrist Pain                                          42\n",
       "Back Pain; Shoulder Pain; Wrist Pain                            40\n",
       "Shoulder Pain; Wrist Pain                                       38\n",
       "Shoulder Pain; Eye Strain; Wrist Pain                           37\n",
       "Back Pain; Eye Strain; Wrist Pain                               34\n",
       "Neck Pain; Wrist Pain                                           23\n",
       "Back Pain; Shoulder Pain; Neck Pain; Wrist Pain                 18\n",
       "Back Pain; Eye Strain; Neck Pain; Wrist Pain                    17\n",
       "Back Pain; Shoulder Pain; Eye Strain; Neck Pain; Wrist Pain     17\n",
       "Back Pain; Neck Pain; Wrist Pain                                12\n",
       "Eye Strain; Neck Pain; Wrist Pain                               12\n",
       "Shoulder Pain; Eye Strain; Neck Pain; Wrist Pain                11\n",
       "Shoulder Pain; Neck Pain; Wrist Pain                            10\n",
       "Name: count, dtype: int64"
      ]
     },
     "execution_count": 25,
     "metadata": {},
     "output_type": "execute_result"
    }
   ],
   "source": [
    "df['Physical_Health_Issues'].value_counts() "
   ]
  },
  {
   "cell_type": "code",
   "execution_count": 26,
   "id": "5a12d68f",
   "metadata": {},
   "outputs": [],
   "source": [
    "# Physical Health issues\n",
    "df['Physical_Health_Issues'] = df['Physical_Health_Issues'].fillna('')"
   ]
  },
  {
   "cell_type": "code",
   "execution_count": 27,
   "id": "58871248",
   "metadata": {},
   "outputs": [
    {
     "data": {
      "text/plain": [
       "3"
      ]
     },
     "execution_count": 27,
     "metadata": {},
     "output_type": "execute_result"
    }
   ],
   "source": [
    "a = 'Back Pain; Shoulder Pain; Eye Strain'\n",
    "len(a.split(';'))"
   ]
  },
  {
   "cell_type": "code",
   "execution_count": 28,
   "id": "1d2b0952",
   "metadata": {},
   "outputs": [],
   "source": [
    "df['Physical_Health_Count'] = df['Physical_Health_Issues'].apply(\n",
    "    lambda x: len([issue for issue in x.split(';') if issue.strip() != ''])\n",
    "    )"
   ]
  },
  {
   "cell_type": "code",
   "execution_count": 29,
   "id": "232295af",
   "metadata": {},
   "outputs": [],
   "source": [
    "df.drop(columns='Physical_Health_Issues', axis=1, inplace=True)"
   ]
  },
  {
   "cell_type": "code",
   "execution_count": 30,
   "id": "e794611e",
   "metadata": {},
   "outputs": [
    {
     "data": {
      "text/plain": [
       "762"
      ]
     },
     "execution_count": 30,
     "metadata": {},
     "output_type": "execute_result"
    }
   ],
   "source": [
    "df['Mental_Health_Status'].isnull().sum()"
   ]
  },
  {
   "cell_type": "code",
   "execution_count": 31,
   "id": "08d5d9ab",
   "metadata": {},
   "outputs": [
    {
     "data": {
      "text/plain": [
       "array(['Stress Disorder', 'ADHD', nan, 'Burnout', 'Anxiety', 'PTSD',\n",
       "       'Depression'], dtype=object)"
      ]
     },
     "execution_count": 31,
     "metadata": {},
     "output_type": "execute_result"
    }
   ],
   "source": [
    "df['Mental_Health_Status'].unique()"
   ]
  },
  {
   "cell_type": "code",
   "execution_count": 32,
   "id": "34aaf065",
   "metadata": {},
   "outputs": [
    {
     "data": {
      "application/vnd.microsoft.datawrangler.viewer.v0+json": {
       "columns": [
        {
         "name": "index",
         "rawType": "int64",
         "type": "integer"
        },
        {
         "name": "Mental_Health_Status",
         "rawType": "object",
         "type": "string"
        }
       ],
       "ref": "59add600-97e8-4cf5-a4a8-20b6fcbccdf9",
       "rows": [
        [
         "0",
         "PTSD"
        ]
       ],
       "shape": {
        "columns": 1,
        "rows": 1
       }
      },
      "text/plain": [
       "0    PTSD\n",
       "Name: Mental_Health_Status, dtype: object"
      ]
     },
     "execution_count": 32,
     "metadata": {},
     "output_type": "execute_result"
    }
   ],
   "source": [
    "# Mental Health issue\n",
    "\n",
    "df['Mental_Health_Status'].mode()\n",
    "\n",
    "# Why Filling All with Mode (“PTSD”) Isn't Ideal\n",
    "\n",
    "# If you impute all missing values with \"PTSD\", you'll artificially inflate that category —\n",
    "# suddenly PTSD will look like the most common condition, even though in reality it might not be.\n",
    "\n",
    "# 👉 This creates data bias and distorts relationships with your target (Burnout_Level).\n",
    "# It's basically saying “everyone who didn't answer has PTSD,” which is obviously not true."
   ]
  },
  {
   "cell_type": "code",
   "execution_count": 33,
   "id": "674df178",
   "metadata": {},
   "outputs": [],
   "source": [
    "df['Mental_Health_Status'] = df['Mental_Health_Status'].fillna('Unknown')"
   ]
  },
  {
   "cell_type": "markdown",
   "id": "600bcefd",
   "metadata": {},
   "source": [
    "The mental health labels **do** represent increasing levels of difficulty or severity (loosely, but reasonably):\n",
    "\n",
    "| Status | Interpretation |\n",
    "| --- | --- |\n",
    "| **Stress Disorder** | Moderate, short-term condition |\n",
    "| **ADHD** | Chronic but manageable |\n",
    "| **Burnout** | Prolonged fatigue and emotional exhaustion |\n",
    "| **Anxiety** | Persistent worry; psychological symptoms |\n",
    "| **Depression** | Severe emotional and mental fatigue |\n",
    "| **PTSD** | Long-term traumatic stress |\n",
    "| **Unknown** | No data reported |\n",
    "\n",
    "So you can think of it as **a gradient of psychological impact**, from “mild stress” to “severe trauma.”"
   ]
  },
  {
   "cell_type": "code",
   "execution_count": 34,
   "id": "ab4748a9",
   "metadata": {},
   "outputs": [],
   "source": [
    "mh_map = {\n",
    "    'Unknown': 0,\n",
    "    'ADHD': 1,\n",
    "    'Stress Disorder': 2,\n",
    "    'Anxiety': 3,\n",
    "    'Burnout': 4,\n",
    "    'Depression': 5,\n",
    "    'PTSD': 6\n",
    "}\n",
    "\n",
    "df['Mental_Health_Score'] = df['Mental_Health_Status'].map(mh_map)"
   ]
  },
  {
   "cell_type": "code",
   "execution_count": 35,
   "id": "55ff497f",
   "metadata": {},
   "outputs": [],
   "source": [
    "df.drop(columns='Mental_Health_Status', axis=1, inplace=True)"
   ]
  },
  {
   "cell_type": "code",
   "execution_count": 36,
   "id": "de25cf84",
   "metadata": {},
   "outputs": [
    {
     "name": "stdout",
     "output_type": "stream",
     "text": [
      "<class 'pandas.core.frame.DataFrame'>\n",
      "Index: 3035 entries, 0 to 3156\n",
      "Data columns (total 12 columns):\n",
      " #   Column                   Non-Null Count  Dtype  \n",
      "---  ------                   --------------  -----  \n",
      " 0   Age                      3035 non-null   int64  \n",
      " 1   Gender                   3035 non-null   object \n",
      " 2   Region                   3035 non-null   object \n",
      " 3   Industry                 3035 non-null   object \n",
      " 4   Work_Arrangement         3035 non-null   object \n",
      " 5   Hours_Per_Week           3035 non-null   int64  \n",
      " 6   Burnout_Level            3035 non-null   object \n",
      " 7   Work_Life_Balance_Score  3035 non-null   int64  \n",
      " 8   Social_Isolation_Score   3035 non-null   int64  \n",
      " 9   Avg_Salary               3035 non-null   float64\n",
      " 10  Physical_Health_Count    3035 non-null   int64  \n",
      " 11  Mental_Health_Score      3035 non-null   int64  \n",
      "dtypes: float64(1), int64(6), object(5)\n",
      "memory usage: 308.2+ KB\n"
     ]
    }
   ],
   "source": [
    "df.info()"
   ]
  },
  {
   "cell_type": "code",
   "execution_count": 37,
   "id": "71c5d0f1",
   "metadata": {},
   "outputs": [
    {
     "data": {
      "application/vnd.microsoft.datawrangler.viewer.v0+json": {
       "columns": [
        {
         "name": "Burnout_Level",
         "rawType": "object",
         "type": "string"
        },
        {
         "name": "count",
         "rawType": "int64",
         "type": "integer"
        }
       ],
       "ref": "5bd08df2-7b24-477b-91c5-118fef8a99f9",
       "rows": [
        [
         "Medium",
         "1319"
        ],
        [
         "High",
         "1005"
        ],
        [
         "Low",
         "711"
        ]
       ],
       "shape": {
        "columns": 1,
        "rows": 3
       }
      },
      "text/plain": [
       "Burnout_Level\n",
       "Medium    1319\n",
       "High      1005\n",
       "Low        711\n",
       "Name: count, dtype: int64"
      ]
     },
     "execution_count": 37,
     "metadata": {},
     "output_type": "execute_result"
    }
   ],
   "source": [
    "df['Burnout_Level'].value_counts()"
   ]
  },
  {
   "cell_type": "code",
   "execution_count": 38,
   "id": "713ae11b",
   "metadata": {},
   "outputs": [],
   "source": [
    "bl_map = {\n",
    "    'High' : 3,\n",
    "    'Medium' : 2,\n",
    "    'Low' : 1\n",
    "}\n",
    "\n",
    "df['Burnout_Level'] = df['Burnout_Level'].map(bl_map)"
   ]
  },
  {
   "cell_type": "code",
   "execution_count": 39,
   "id": "909d5bb4",
   "metadata": {},
   "outputs": [
    {
     "data": {
      "text/plain": [
       "Index(['Gender', 'Region', 'Industry', 'Work_Arrangement'], dtype='object')"
      ]
     },
     "execution_count": 39,
     "metadata": {},
     "output_type": "execute_result"
    }
   ],
   "source": [
    "cat_features = df.select_dtypes(include=object).columns\n",
    "cat_features"
   ]
  },
  {
   "cell_type": "code",
   "execution_count": 40,
   "id": "d6647ce4",
   "metadata": {},
   "outputs": [
    {
     "data": {
      "text/plain": [
       "Index(['Age', 'Hours_Per_Week', 'Burnout_Level', 'Work_Life_Balance_Score',\n",
       "       'Social_Isolation_Score', 'Avg_Salary', 'Physical_Health_Count',\n",
       "       'Mental_Health_Score'],\n",
       "      dtype='object')"
      ]
     },
     "execution_count": 40,
     "metadata": {},
     "output_type": "execute_result"
    }
   ],
   "source": [
    "num_features = df.select_dtypes(exclude=object).columns\n",
    "num_features"
   ]
  },
  {
   "cell_type": "code",
   "execution_count": 41,
   "id": "8dd17a4f",
   "metadata": {},
   "outputs": [],
   "source": [
    "df.to_csv('clean_data.csv', index=False)"
   ]
  },
  {
   "cell_type": "code",
   "execution_count": null,
   "id": "0a40d784",
   "metadata": {},
   "outputs": [],
   "source": []
  },
  {
   "cell_type": "code",
   "execution_count": null,
   "id": "e2904f66",
   "metadata": {},
   "outputs": [],
   "source": []
  },
  {
   "cell_type": "code",
   "execution_count": null,
   "id": "e3d9e1a4",
   "metadata": {},
   "outputs": [],
   "source": []
  }
 ],
 "metadata": {
  "kernelspec": {
   "display_name": "Python 3",
   "language": "python",
   "name": "python3"
  },
  "language_info": {
   "codemirror_mode": {
    "name": "ipython",
    "version": 3
   },
   "file_extension": ".py",
   "mimetype": "text/x-python",
   "name": "python",
   "nbconvert_exporter": "python",
   "pygments_lexer": "ipython3",
   "version": "3.12.5"
  }
 },
 "nbformat": 4,
 "nbformat_minor": 5
}
